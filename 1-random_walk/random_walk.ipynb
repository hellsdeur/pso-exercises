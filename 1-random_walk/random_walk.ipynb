{
 "cells": [
  {
   "cell_type": "markdown",
   "id": "45b504c1-047c-4964-a0be-bf47311e1654",
   "metadata": {},
   "source": [
    "# Primeiro Trabalho - Random Walk"
   ]
  },
  {
   "cell_type": "markdown",
   "id": "db2fdf3a-73d5-4ff8-8dac-84fee85e1ffb",
   "metadata": {},
   "source": [
    "- [0. Introdução](#0.-Introdução)\n",
    "    - [0.1. Random Walk](#0.1.-Random-Walk)\n",
    "    - [0.2. Descrição da Tarefa](#0.2.-Descrição-da-Tarefa)\n",
    "    - [0.3. Bibliotecas utilizadas](#0.3.-Bibliotecas-utilizadas)\n",
    "- [1. Primeiro caso de teste](#1.-Primeiro-caso-de-teste)\n",
    "    - [1.1. Implementação](#1.1.-Implementação)\n",
    "    - [1.2. Execução](#1.2.-Execução)\n",
    "    - [1.3. Resultados](#1.3.-Resultados)\n",
    "        - [1.3.1. Tabela](#1.3.1.-Tabela)\n",
    "        - [1.3.2. Gráfico de Convergência](#1.3.2.-Gráfico-de-Convergência)\n",
    "- [2. Segundo caso de teste](#2.-Segundo-caso-de-teste)\n",
    "    - [2.1. Implementação](#2.1.-Implementação)\n",
    "    - [2.2. Execução](#2.2.-Execução)\n",
    "    - [2.3. Resultados](#2.3.-Resultados)\n",
    "        - [2.3.1. Tabela](#2.3.1.-Tabela)\n",
    "        - [2.3.2. Gráfico de Convergência](#2.3.2.-Gráfico-de-Convergência)"
   ]
  },
  {
   "cell_type": "markdown",
   "id": "760ac9ed-ee7a-46f2-8942-4fe43fe8bfa2",
   "metadata": {},
   "source": [
    "# 0. Introdução"
   ]
  },
  {
   "cell_type": "markdown",
   "id": "cbdd699d-cbe8-45e4-872c-fee43a0563ba",
   "metadata": {},
   "source": [
    "## 0.1. Random Walk"
   ]
  },
  {
   "cell_type": "markdown",
   "id": "136a632a-c899-43db-a8d2-e0763e8dbf2b",
   "metadata": {},
   "source": [
    "## 0.2. Descrição da Tarefa"
   ]
  },
  {
   "cell_type": "markdown",
   "id": "2eadc689-3979-4cea-a3f2-282462a99881",
   "metadata": {},
   "source": [
    "## 0.3. Bibliotecas utilizadas"
   ]
  },
  {
   "cell_type": "code",
   "execution_count": 1,
   "id": "6f0fcd46-2786-4615-ae90-1f275003188f",
   "metadata": {},
   "outputs": [],
   "source": [
    "import numpy as np\n",
    "import pandas as pd\n",
    "import matplotlib.pyplot as plt\n",
    "import seaborn as sns"
   ]
  },
  {
   "cell_type": "markdown",
   "id": "cc1db3e6-1471-455f-a88d-e9f830b959e3",
   "metadata": {},
   "source": [
    "## 1. Primeiro caso de teste"
   ]
  },
  {
   "cell_type": "markdown",
   "id": "6231b266-ef52-482b-bf13-d3373fe16446",
   "metadata": {},
   "source": [
    "### 1.1. Implementação"
   ]
  },
  {
   "cell_type": "code",
   "execution_count": 2,
   "id": "93341caa-0de8-4b10-bc39-935cc2f2074d",
   "metadata": {},
   "outputs": [],
   "source": [
    "class RandomWalk:\n",
    "    def __init__(self, n_samples, bounds, function, cutoff, n_gen):\n",
    "        self.n_samples = n_samples # number of samples in population\n",
    "        self.bounds = bounds       # dict of bounds for each variable\n",
    "        self.function = function   # objective function\n",
    "        self.cutoff = cutoff       # proportion of surviving samples (0,1)\n",
    "        self.n_gen = n_gen         # number of generations\n",
    "        self.population = pd.DataFrame(columns=[f\"x{i}\" for i in range(len(self.bounds))])\n",
    "        self.stats = pd.DataFrame(columns=[\"mean\", \"std\"])\n",
    "        self.best_solutions = pd.DataFrame(columns=self.population.columns)\n",
    "\n",
    "    # generate or complement population of viable solutions\n",
    "    def populate(self, n_samples):\n",
    "        for s in range(n_samples):\n",
    "            sample = {}\n",
    "            # each sample is identified by xi and contains len(bounds) values taken from an uniform distribution [0,1)\n",
    "            r = np.random.uniform(0,1,len(self.bounds))\n",
    "            sample = {f\"x{i}\": r[i] for i in range(len(self.bounds))}\n",
    "            \n",
    "            # normalize samples to fit the specified bounds\n",
    "            for i in range(len(sample)):\n",
    "                sample[f\"x{i}\"] = self.bounds[i][\"lb\"] + (self.bounds[i][\"ub\"] - self.bounds[i][\"lb\"]) * sample[f\"x{i}\"]\n",
    "            \n",
    "            # append to population and get value of function for each sample\n",
    "            self.population = self.population.append(sample, ignore_index=True)\n",
    "        \n",
    "        # calculate objective function for each function \n",
    "        self.population['y'] = self.function(*[self.population[f'{col}'] for col in self.population.columns if col != 'y'])\n",
    "    \n",
    "    # define surviving population\n",
    "    def select(self):\n",
    "        # sort population by value of function\n",
    "        self.population.sort_values(by=['y'], ignore_index=True, inplace=True)\n",
    "        \n",
    "        # select survivors based on cutoff proportion\n",
    "        self.population.drop(self.population[self.population.index >= len(self.population)*self.cutoff].index, inplace=True)\n",
    "        \n",
    "        self.population.reset_index(drop=True, inplace=True)\n",
    "        \n",
    "    # populate, select and extract stats through a given number of rounds\n",
    "    def execute(self, n_exec):\n",
    "        best_y = pd.DataFrame(columns=[f\"gen_{i}\" for i in range(self.n_gen+1)])\n",
    "        self.best_solutions = pd.DataFrame(columns=self.population.columns)\n",
    "        \n",
    "        for e in range(n_exec):\n",
    "            # generate initial population and select its best samples\n",
    "            self.population = self.population.iloc[0:0]\n",
    "            self.populate(self.n_samples)\n",
    "            self.select()\n",
    "            \n",
    "            # dict to store best samples by generation\n",
    "            best_in_gen = {}\n",
    "            \n",
    "            for g in range(self.n_gen+1):\n",
    "                # repopulate and select best samples\n",
    "                self.populate(self.n_samples - len(self.population))\n",
    "                self.select()\n",
    "                \n",
    "                # extract best objective function in generation\n",
    "                best_in_gen[f\"gen_{g}\"] = self.population['y'].iloc[0]\n",
    "            \n",
    "            # append best solutions by execution\n",
    "            best_y = best_y.append(best_in_gen, ignore_index=True)\n",
    "            \n",
    "            # extract best sample by execution\n",
    "            self.best_solutions = self.best_solutions.append(self.population.iloc[0], ignore_index=True)\n",
    "        \n",
    "        # extract mean and std dev by generation\n",
    "        self.stats = best_y.describe().loc[['mean','std']].T\n",
    "    \n",
    "    def get_best_solutions(self):\n",
    "        return self.best_solutions\n",
    "    \n",
    "    def plot_convergence(self):\n",
    "        sns.set_style(\"dark\")\n",
    "        plt.figure(figsize=(30,10))\n",
    "        plt.grid()\n",
    "        plt.plot(self.stats.index, self.stats[\"mean\"], label=\"Mean\")\n",
    "        plt.fill_between(range(len(self.stats)), self.stats[\"mean\"]-self.stats[\"std\"], self.stats[\"mean\"]+self.stats[\"std\"], alpha = 0.5, label=\"Std. Dev.\")\n",
    "        plt.plot(self.stats.index, [min(self.stats[\"mean\"]) for i in range(len(self.stats.index))], label=\"Minimum\")\n",
    "        plt.xticks(np.arange(0, self.n_gen+1, self.n_gen/10))\n",
    "        plt.xlabel(\"Generation\")\n",
    "        plt.ylabel(\"Fitness values\")\n",
    "        plt.title(\"Fitness by Generation\")\n",
    "        plt.legend()\n",
    "        plt.savefig(\"case1.png\", dpi=300)\n",
    "        plt.show()"
   ]
  },
  {
   "cell_type": "markdown",
   "id": "20af1ff8-3034-493a-885b-c7fef30935b0",
   "metadata": {},
   "source": [
    "### 1.2. Execução"
   ]
  },
  {
   "cell_type": "code",
   "execution_count": 3,
   "id": "a1abf98c-8bc6-4f60-a820-ff327b749e54",
   "metadata": {},
   "outputs": [],
   "source": [
    "bounds = [{\"lb\": -3, \"ub\": 3},\n",
    "          {\"lb\": -2, \"ub\": 4},\n",
    "          {\"lb\": 0, \"ub\": 6}]\n",
    "\n",
    "lambda_f = lambda x0, x1, x2: 10*(x0-1)**2 + 20*(x1-2)**2 + 30*(x2-3)**2\n",
    "\n",
    "rw = RandomWalk(100, bounds, lambda_f, .9, 10000)\n",
    "rw.execute(5)"
   ]
  },
  {
   "cell_type": "markdown",
   "id": "f00e166c-d924-42ee-a8b4-518561311e5b",
   "metadata": {},
   "source": [
    "### 1.3. Resultados"
   ]
  },
  {
   "cell_type": "markdown",
   "id": "f9c73b97-7d4e-45ab-99c3-795e6d042241",
   "metadata": {},
   "source": [
    "#### 1.3.1. Tabela"
   ]
  },
  {
   "cell_type": "code",
   "execution_count": 4,
   "id": "07c88e27-fc02-4e8f-8473-e31358b268bb",
   "metadata": {},
   "outputs": [
    {
     "data": {
      "text/html": [
       "<div>\n",
       "<style scoped>\n",
       "    .dataframe tbody tr th:only-of-type {\n",
       "        vertical-align: middle;\n",
       "    }\n",
       "\n",
       "    .dataframe tbody tr th {\n",
       "        vertical-align: top;\n",
       "    }\n",
       "\n",
       "    .dataframe thead th {\n",
       "        text-align: right;\n",
       "    }\n",
       "</style>\n",
       "<table border=\"1\" class=\"dataframe\">\n",
       "  <thead>\n",
       "    <tr style=\"text-align: right;\">\n",
       "      <th></th>\n",
       "      <th>x0</th>\n",
       "      <th>x1</th>\n",
       "      <th>x2</th>\n",
       "      <th>y</th>\n",
       "    </tr>\n",
       "  </thead>\n",
       "  <tbody>\n",
       "    <tr>\n",
       "      <th>0</th>\n",
       "      <td>1.051272</td>\n",
       "      <td>2.032091</td>\n",
       "      <td>3.007355</td>\n",
       "      <td>0.048508</td>\n",
       "    </tr>\n",
       "    <tr>\n",
       "      <th>1</th>\n",
       "      <td>0.961669</td>\n",
       "      <td>1.963361</td>\n",
       "      <td>2.985544</td>\n",
       "      <td>0.047809</td>\n",
       "    </tr>\n",
       "    <tr>\n",
       "      <th>2</th>\n",
       "      <td>1.155116</td>\n",
       "      <td>2.037665</td>\n",
       "      <td>2.982825</td>\n",
       "      <td>0.277833</td>\n",
       "    </tr>\n",
       "    <tr>\n",
       "      <th>3</th>\n",
       "      <td>0.998215</td>\n",
       "      <td>2.056121</td>\n",
       "      <td>2.966858</td>\n",
       "      <td>0.095973</td>\n",
       "    </tr>\n",
       "    <tr>\n",
       "      <th>4</th>\n",
       "      <td>0.861771</td>\n",
       "      <td>1.955221</td>\n",
       "      <td>2.999768</td>\n",
       "      <td>0.231178</td>\n",
       "    </tr>\n",
       "  </tbody>\n",
       "</table>\n",
       "</div>"
      ],
      "text/plain": [
       "         x0        x1        x2         y\n",
       "0  1.051272  2.032091  3.007355  0.048508\n",
       "1  0.961669  1.963361  2.985544  0.047809\n",
       "2  1.155116  2.037665  2.982825  0.277833\n",
       "3  0.998215  2.056121  2.966858  0.095973\n",
       "4  0.861771  1.955221  2.999768  0.231178"
      ]
     },
     "execution_count": 4,
     "metadata": {},
     "output_type": "execute_result"
    }
   ],
   "source": [
    "rw.get_best_solutions()"
   ]
  },
  {
   "cell_type": "markdown",
   "id": "6550a231-ae11-43a6-bf09-8b6e5e44bb82",
   "metadata": {},
   "source": [
    "#### 1.3.2. Gráfico de Convergência"
   ]
  },
  {
   "cell_type": "code",
   "execution_count": 5,
   "id": "ddcb07e6-84d2-4545-9a5d-c6e0f0d77dcd",
   "metadata": {},
   "outputs": [
    {
     "data": {
      "image/png": "[encoded data removed]",
      "text/plain": [
       "<Figure size 2160x720 with 1 Axes>"
      ]
     },
     "metadata": {},
     "output_type": "display_data"
    }
   ],
   "source": [
    "rw.plot_convergence()"
   ]
  },
  {
   "cell_type": "markdown",
   "id": "1e16e857-810b-483a-a115-36168b82b846",
   "metadata": {},
   "source": [
    "## 2. Segundo caso de teste"
   ]
  },
  {
   "cell_type": "markdown",
   "id": "e3ba0e40-9199-472a-829b-5c7789194d3a",
   "metadata": {},
   "source": [
    "### 2.1. Implementação"
   ]
  },
  {
   "cell_type": "code",
   "execution_count": 13,
   "id": "c146b87c-fd02-43cc-8528-7bc992f9bb7c",
   "metadata": {},
   "outputs": [],
   "source": [
    "class RandomWalk:\n",
    "    def __init__(self, n_samples, target, bounds, function, cutoff, n_gen):\n",
    "        self.n_samples = n_samples # number of samples in population\n",
    "        self.target = target       # list that represents target\n",
    "        self.bounds = bounds       # dict of bounds\n",
    "        self.function = function   # objective function\n",
    "        self.cutoff = cutoff       # proportion of surviving samples (0,1)\n",
    "        self.n_gen = n_gen         # number of generations\n",
    "        self.population = pd.DataFrame(columns=[f\"t{i}\" for i in range(len(self.target))])\n",
    "        self.stats = pd.DataFrame(columns=[\"mean\", \"std\"])\n",
    "        self.best_solutions = pd.DataFrame(columns=self.population.columns)\n",
    "\n",
    "    # generate or complement population of viable solutions\n",
    "    def populate(self, n_samples):\n",
    "        for s in range(n_samples):\n",
    "            sample = {}\n",
    "            # each sample contains len(target) variables taken from an uniform distribution [0,1)\n",
    "            r = np.random.uniform(0,1,len(self.target))\n",
    "            sample = {f\"t{i}\": r[i] for i in range(len(self.target))}\n",
    "            \n",
    "            # normalize samples to fit the specified bounds\n",
    "            for i in range(len(sample)):\n",
    "                sample[f\"t{i}\"] = self.bounds[\"lb\"] + (self.bounds[\"ub\"] - self.bounds[\"lb\"]) * sample[f\"t{i}\"]\n",
    "            \n",
    "            # append to population\n",
    "            self.population = self.population.append(sample, ignore_index=True)\n",
    "        \n",
    "        # calculate objective function for each function \n",
    "        self.population['y'] = self.function([self.population[f\"{col}\"] for col in self.population.columns if col != 'y'])\n",
    "    \n",
    "    # define surviving population\n",
    "    def select(self):\n",
    "        # sort population by value of function\n",
    "        self.population.sort_values(by=['y'], ignore_index=True, inplace=True)\n",
    "        \n",
    "        # select survivors based on cutoff proportion\n",
    "        self.population.drop(self.population[self.population.index >= len(self.population)*self.cutoff].index, inplace=True)\n",
    "        \n",
    "        self.population.reset_index(drop=True, inplace=True)\n",
    "        \n",
    "    # populate, select and extract stats through a given number of rounds\n",
    "    def execute(self, n_exec):\n",
    "        best_y = pd.DataFrame(columns=[f\"gen_{i}\" for i in range(self.n_gen+1)])\n",
    "        self.best_solutions = pd.DataFrame(columns=self.population.columns)\n",
    "        \n",
    "        for e in range(n_exec):\n",
    "            # generate initial population and select its best samples\n",
    "            self.population = self.population.iloc[0:0]\n",
    "            self.populate(self.n_samples)\n",
    "            self.select()\n",
    "            \n",
    "            # dict to store best samples by generation\n",
    "            best_in_gen = {}\n",
    "            \n",
    "            for g in range(self.n_gen+1):\n",
    "                # repopulate and select best samples\n",
    "                self.populate(self.n_samples - len(self.population))\n",
    "                self.select()\n",
    "                \n",
    "                # extract best objective function in generation\n",
    "                best_in_gen[f\"gen_{g}\"] = self.population['y'].iloc[0]\n",
    "            \n",
    "            # append best solutions by execution\n",
    "            best_y = best_y.append(best_in_gen, ignore_index=True)\n",
    "            \n",
    "            # extract best sample by execution\n",
    "            self.best_solutions = self.best_solutions.append(self.population.iloc[0], ignore_index=True)\n",
    "        \n",
    "        # extract mean and std dev by generation\n",
    "        self.stats = best_y.describe().loc[['mean','std']].T\n",
    "    \n",
    "    def get_best_solutions(self):\n",
    "        return self.best_solutions\n",
    "    \n",
    "    def plot_convergence(self):\n",
    "        sns.set_style(\"dark\")\n",
    "        plt.figure(figsize=(30,10))\n",
    "        plt.grid()\n",
    "        plt.plot(self.stats.index, self.stats[\"mean\"], label=\"Mean\")\n",
    "        plt.fill_between(range(len(self.stats)), self.stats[\"mean\"]-self.stats[\"std\"], self.stats[\"mean\"]+self.stats[\"std\"], alpha = 0.5, label=\"Std. Dev.\")\n",
    "        plt.plot(self.stats.index, [min(self.stats[\"mean\"]) for i in range(len(self.stats.index))], label=\"Minimum\")\n",
    "        plt.xticks(np.arange(0, self.n_gen+1, self.n_gen/10))\n",
    "        plt.xlabel(\"Generation\")\n",
    "        plt.ylabel(\"Fitness values\")\n",
    "        plt.title(\"Fitness by Generation\")\n",
    "        plt.legend()\n",
    "        plt.savefig(\"case2.png\", dpi=300)\n",
    "        plt.show()"
   ]
  },
  {
   "cell_type": "markdown",
   "id": "58c64c75-401c-445c-9942-2772bfb86d8e",
   "metadata": {},
   "source": [
    "### 2.2. Execução"
   ]
  },
  {
   "cell_type": "code",
   "execution_count": 36,
   "id": "eadec531-8657-4913-8e2a-8467788416f6",
   "metadata": {},
   "outputs": [],
   "source": [
    "target = [52.547, 72.154, 53.694, 57.771, 115.88, 105.59, 75.368, 126.02,\n",
    "          52.756, 85.100, 80.525, 111.24, 113.62, 64.95, 89.181, 85.647,\n",
    "          101.71, 106.75, 110.37, 72.082, 104.38, 102.41, 63.009, 59.52,\n",
    "          89.869, 126.78, 77.231, 96.821, 67.905, 110.1]\n",
    "\n",
    "lambda_f = lambda word: (sum([(target[i] - word[i])**2 for i in range(len(target))]))**.5\n",
    "\n",
    "bounds = {\"lb\": min(target), \"ub\": max(target)}\n",
    "\n",
    "rw = RandomWalk(100, target, bounds, lambda_f, .9, 10000)\n",
    "rw.execute(5)"
   ]
  },
  {
   "cell_type": "markdown",
   "id": "155066f8-dc12-452a-9817-4e946247e041",
   "metadata": {},
   "source": [
    "### 2.3. Resultados"
   ]
  },
  {
   "cell_type": "markdown",
   "id": "98122220-6e13-4f56-beec-0fb332a050f4",
   "metadata": {},
   "source": [
    "#### 2.3.1. Tabela"
   ]
  },
  {
   "cell_type": "code",
   "execution_count": 37,
   "id": "83ce265e-0368-4246-b9af-ae16aa598d3c",
   "metadata": {},
   "outputs": [
    {
     "data": {
      "text/html": [
       "<div>\n",
       "<style scoped>\n",
       "    .dataframe tbody tr th:only-of-type {\n",
       "        vertical-align: middle;\n",
       "    }\n",
       "\n",
       "    .dataframe tbody tr th {\n",
       "        vertical-align: top;\n",
       "    }\n",
       "\n",
       "    .dataframe thead th {\n",
       "        text-align: right;\n",
       "    }\n",
       "</style>\n",
       "<table border=\"1\" class=\"dataframe\">\n",
       "  <thead>\n",
       "    <tr style=\"text-align: right;\">\n",
       "      <th></th>\n",
       "      <th>t0</th>\n",
       "      <th>t1</th>\n",
       "      <th>t2</th>\n",
       "      <th>t3</th>\n",
       "      <th>t4</th>\n",
       "      <th>t5</th>\n",
       "      <th>t6</th>\n",
       "      <th>t7</th>\n",
       "      <th>t8</th>\n",
       "      <th>t9</th>\n",
       "      <th>...</th>\n",
       "      <th>t21</th>\n",
       "      <th>t22</th>\n",
       "      <th>t23</th>\n",
       "      <th>t24</th>\n",
       "      <th>t25</th>\n",
       "      <th>t26</th>\n",
       "      <th>t27</th>\n",
       "      <th>t28</th>\n",
       "      <th>t29</th>\n",
       "      <th>y</th>\n",
       "    </tr>\n",
       "  </thead>\n",
       "  <tbody>\n",
       "    <tr>\n",
       "      <th>0</th>\n",
       "      <td>54.876072</td>\n",
       "      <td>67.283584</td>\n",
       "      <td>74.049150</td>\n",
       "      <td>66.736188</td>\n",
       "      <td>96.131632</td>\n",
       "      <td>78.954444</td>\n",
       "      <td>94.938770</td>\n",
       "      <td>113.767759</td>\n",
       "      <td>54.806092</td>\n",
       "      <td>85.286249</td>\n",
       "      <td>...</td>\n",
       "      <td>120.837841</td>\n",
       "      <td>69.979774</td>\n",
       "      <td>77.032065</td>\n",
       "      <td>86.963179</td>\n",
       "      <td>119.971659</td>\n",
       "      <td>123.594117</td>\n",
       "      <td>92.232136</td>\n",
       "      <td>94.514704</td>\n",
       "      <td>90.625527</td>\n",
       "      <td>88.788016</td>\n",
       "    </tr>\n",
       "    <tr>\n",
       "      <th>1</th>\n",
       "      <td>59.886711</td>\n",
       "      <td>123.872267</td>\n",
       "      <td>52.863813</td>\n",
       "      <td>60.106003</td>\n",
       "      <td>106.222188</td>\n",
       "      <td>85.732152</td>\n",
       "      <td>74.169515</td>\n",
       "      <td>114.862380</td>\n",
       "      <td>73.299627</td>\n",
       "      <td>69.498493</td>\n",
       "      <td>...</td>\n",
       "      <td>90.929315</td>\n",
       "      <td>66.270819</td>\n",
       "      <td>65.002421</td>\n",
       "      <td>83.446812</td>\n",
       "      <td>101.528080</td>\n",
       "      <td>95.205162</td>\n",
       "      <td>66.073405</td>\n",
       "      <td>85.856140</td>\n",
       "      <td>118.796430</td>\n",
       "      <td>95.119799</td>\n",
       "    </tr>\n",
       "    <tr>\n",
       "      <th>2</th>\n",
       "      <td>66.379020</td>\n",
       "      <td>67.132848</td>\n",
       "      <td>54.486809</td>\n",
       "      <td>68.144128</td>\n",
       "      <td>100.116411</td>\n",
       "      <td>111.906263</td>\n",
       "      <td>95.781197</td>\n",
       "      <td>115.692830</td>\n",
       "      <td>53.263704</td>\n",
       "      <td>98.596644</td>\n",
       "      <td>...</td>\n",
       "      <td>106.915336</td>\n",
       "      <td>55.304079</td>\n",
       "      <td>60.388272</td>\n",
       "      <td>75.508997</td>\n",
       "      <td>120.559078</td>\n",
       "      <td>66.664333</td>\n",
       "      <td>86.147909</td>\n",
       "      <td>81.629904</td>\n",
       "      <td>114.248141</td>\n",
       "      <td>91.623451</td>\n",
       "    </tr>\n",
       "    <tr>\n",
       "      <th>3</th>\n",
       "      <td>68.184826</td>\n",
       "      <td>95.919430</td>\n",
       "      <td>54.736062</td>\n",
       "      <td>57.142251</td>\n",
       "      <td>108.252784</td>\n",
       "      <td>124.782853</td>\n",
       "      <td>97.464055</td>\n",
       "      <td>113.476223</td>\n",
       "      <td>60.530119</td>\n",
       "      <td>90.275562</td>\n",
       "      <td>...</td>\n",
       "      <td>111.833281</td>\n",
       "      <td>71.154790</td>\n",
       "      <td>71.337341</td>\n",
       "      <td>90.670426</td>\n",
       "      <td>88.419688</td>\n",
       "      <td>110.187497</td>\n",
       "      <td>80.818729</td>\n",
       "      <td>56.092440</td>\n",
       "      <td>98.884144</td>\n",
       "      <td>94.544412</td>\n",
       "    </tr>\n",
       "    <tr>\n",
       "      <th>4</th>\n",
       "      <td>61.021242</td>\n",
       "      <td>67.902943</td>\n",
       "      <td>69.342054</td>\n",
       "      <td>79.428085</td>\n",
       "      <td>86.809385</td>\n",
       "      <td>96.608622</td>\n",
       "      <td>107.209106</td>\n",
       "      <td>118.047906</td>\n",
       "      <td>54.496092</td>\n",
       "      <td>94.612559</td>\n",
       "      <td>...</td>\n",
       "      <td>74.147949</td>\n",
       "      <td>91.238281</td>\n",
       "      <td>72.518102</td>\n",
       "      <td>85.411539</td>\n",
       "      <td>117.867213</td>\n",
       "      <td>70.947778</td>\n",
       "      <td>87.003808</td>\n",
       "      <td>72.651634</td>\n",
       "      <td>121.777442</td>\n",
       "      <td>96.751393</td>\n",
       "    </tr>\n",
       "  </tbody>\n",
       "</table>\n",
       "<p>5 rows × 31 columns</p>\n",
       "</div>"
      ],
      "text/plain": [
       "          t0          t1         t2         t3          t4          t5  \\\n",
       "0  54.876072   67.283584  74.049150  66.736188   96.131632   78.954444   \n",
       "1  59.886711  123.872267  52.863813  60.106003  106.222188   85.732152   \n",
       "2  66.379020   67.132848  54.486809  68.144128  100.116411  111.906263   \n",
       "3  68.184826   95.919430  54.736062  57.142251  108.252784  124.782853   \n",
       "4  61.021242   67.902943  69.342054  79.428085   86.809385   96.608622   \n",
       "\n",
       "           t6          t7         t8         t9  ...         t21        t22  \\\n",
       "0   94.938770  113.767759  54.806092  85.286249  ...  120.837841  69.979774   \n",
       "1   74.169515  114.862380  73.299627  69.498493  ...   90.929315  66.270819   \n",
       "2   95.781197  115.692830  53.263704  98.596644  ...  106.915336  55.304079   \n",
       "3   97.464055  113.476223  60.530119  90.275562  ...  111.833281  71.154790   \n",
       "4  107.209106  118.047906  54.496092  94.612559  ...   74.147949  91.238281   \n",
       "\n",
       "         t23        t24         t25         t26        t27        t28  \\\n",
       "0  77.032065  86.963179  119.971659  123.594117  92.232136  94.514704   \n",
       "1  65.002421  83.446812  101.528080   95.205162  66.073405  85.856140   \n",
       "2  60.388272  75.508997  120.559078   66.664333  86.147909  81.629904   \n",
       "3  71.337341  90.670426   88.419688  110.187497  80.818729  56.092440   \n",
       "4  72.518102  85.411539  117.867213   70.947778  87.003808  72.651634   \n",
       "\n",
       "          t29          y  \n",
       "0   90.625527  88.788016  \n",
       "1  118.796430  95.119799  \n",
       "2  114.248141  91.623451  \n",
       "3   98.884144  94.544412  \n",
       "4  121.777442  96.751393  \n",
       "\n",
       "[5 rows x 31 columns]"
      ]
     },
     "metadata": {},
     "output_type": "display_data"
    }
   ],
   "source": [
    "display(rw.get_best_solutions())"
   ]
  },
  {
   "cell_type": "markdown",
   "id": "8610837f-a1fa-4062-9c42-53986ec108ab",
   "metadata": {},
   "source": [
    "#### 2.3.2. Gráfico de Convergência"
   ]
  },
  {
   "cell_type": "code",
   "execution_count": 38,
   "id": "bc18d047-1394-4992-a12b-8ec4edd6766d",
   "metadata": {},
   "outputs": [
    {
     "data": {
      "image/png": "[encoded data removed]",
      "text/plain": [
       "<Figure size 2160x720 with 1 Axes>"
      ]
     },
     "metadata": {},
     "output_type": "display_data"
    }
   ],
   "source": [
    "rw.plot_convergence()"
   ]
  }
 ],
 "metadata": {
  "kernelspec": {
   "display_name": "Python 3",
   "language": "python",
   "name": "python3"
  },
  "language_info": {
   "codemirror_mode": {
    "name": "ipython",
    "version": 3
   },
   "file_extension": ".py",
   "mimetype": "text/x-python",
   "name": "python",
   "nbconvert_exporter": "python",
   "pygments_lexer": "ipython3",
   "version": "3.8.5"
  }
 },
 "nbformat": 4,
 "nbformat_minor": 5
}
