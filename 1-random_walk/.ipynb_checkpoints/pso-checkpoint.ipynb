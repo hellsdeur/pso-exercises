{
 "cells": [
  {
   "cell_type": "markdown",
   "id": "a95d4e13-c628-4157-935a-2610ef3ca3a6",
   "metadata": {},
   "source": [
    "# Primeiro Trabalho - Random Walk (complemento)"
   ]
  },
  {
   "cell_type": "markdown",
   "id": "1abf8489-497b-4f82-b1a1-147aeb04d326",
   "metadata": {},
   "source": [
    "- [0. Introdução](#0.-Introdução)\n",
    "    - [0.1. PPSO](#0.1.-PPSO)\n",
    "    - [0.2. Descrição da Tarefa](#0.2.-Descrição-da-Tarefa)\n",
    "    - [0.3. Implementação](#0.3.-Implementação)\n",
    "        - [0.3.1. Parâmetros](#0.3.1.-Parâmetros)\n",
    "        - [0.3.2. Partícula](#0.3.2.-Partícula)\n",
    "        - [0.3.3. Enxame](#0.3.3.-Enxame)\n",
    "        - [0.3.4. Funções gerais](#0.3.4.-Funções-gerais)\n",
    "- [1. Primeiro caso de teste](#1.-Primeiro-caso-de-teste)\n",
    "    - [1.1. Implementação](#1.1.-Implementação)\n",
    "    - [1.2. Execução](#1.2.-Execução)\n",
    "    - [1.3. Resultados](#1.3.-Resultados)\n",
    "        - [1.3.1. Tabela](#1.3.1.-Tabela)\n",
    "        - [1.3.2. Gráfico de Convergência](#1.3.2.-Gráfico-de-Convergência)\n",
    "- [2. Segundo caso de teste](#2.-Segundo-caso-de-teste)\n",
    "    - [2.1. Implementação](#2.1.-Implementação)\n",
    "    - [2.2. Execução](#2.2.-Execução)\n",
    "    - [2.3. Resultados](#2.3.-Resultados)\n",
    "        - [2.3.1. Tabela](#2.3.1.-Tabela)\n",
    "        - [2.3.2. Gráfico de Convergência](#2.3.2.-Gráfico-de-Convergência)"
   ]
  },
  {
   "cell_type": "markdown",
   "id": "7119e711-96d2-4ca1-af12-5e7d788edecd",
   "metadata": {},
   "source": [
    "# 0. Introdução"
   ]
  },
  {
   "cell_type": "markdown",
   "id": "f17a8408-8453-4241-a292-c31adc59843f",
   "metadata": {},
   "source": [
    "## 0.1. PPSO"
   ]
  },
  {
   "cell_type": "markdown",
   "id": "3749c835-a2b3-42df-8445-0c88de0ce0bd",
   "metadata": {},
   "source": [
    "## 0.2. Descrição da Tarefa"
   ]
  },
  {
   "cell_type": "markdown",
   "id": "d573f0cd-06f6-4bdb-896e-5b1e6bf1c00d",
   "metadata": {},
   "source": [
    "- Primeiro caso de teste\n",
    "\n",
    "Considere a seguinte função objetivo:\n",
    "\n",
    "$$ y = 10 (x1-1)^{2} + 20 (x2-2)^{2} + 30 (x3-3)^{2} $$\n",
    "\n",
    "Desenvolver um Random Walk ou equivalente para achar o mínimo da função . Usando uma distribuição uniforme gere uma população de sequências de números reais variando de 0 a 1. Cara sequência terá três valores que são o x1, x2 e x3 da equação:\n",
    "\n",
    "$$x_i' = LB_{x_i} + ( UB_{x_i}-LB_{x_i})*valor_i$$\n",
    "\n",
    "Cada valor na sequência precisa ser convertido para a faixa de x1, x2 e x3.\n",
    "\n",
    "- Segundo caso de teste\n",
    "\n",
    "Reutilizar o Random walk desenvolvido para a tarefa anterior para encontrar a palavra descrita abaixo. Cada sequência aleatória do RW será uma palavra do mesmo tamanho da palavra alvo e a função fitness será uma medida de similaridade entre a sequência e a palavra alvo.\n",
    "\n",
    "$$Alvo = \\{52.547, 72.154, 53.694, 57.771, 115.88, 105.59, 75.368, 126.02, 52.756, 85.100, 80.525, 111.24, 113.62, 64.95, 89.181,\\\\\n",
    "85.647, 101.71, 106.75, 110.37, 72.082, 104.38, 102.41, 63.009, 59.52, 89.869, 126.78, 77.231, 96.821, 67.905, 110.1\\}$$"
   ]
  },
  {
   "cell_type": "markdown",
   "id": "2ac0ffd3-c6b1-46ab-9940-837fadbbfb29",
   "metadata": {},
   "source": [
    "## 0.3. Implementação"
   ]
  },
  {
   "cell_type": "code",
   "execution_count": 1,
   "id": "0ffd83ed-4e39-4c87-8550-0621ff759bc9",
   "metadata": {},
   "outputs": [],
   "source": [
    "import numpy as np\n",
    "import pandas as pd\n",
    "import matplotlib.pyplot as plt\n",
    "import seaborn as sns\n",
    "import copy\n",
    "\n",
    "from PPSO.classes.Swarm import Swarm"
   ]
  },
  {
   "cell_type": "code",
   "execution_count": 2,
   "id": "b6832edb-1fe1-46d3-96a9-0240cdfaf4b3",
   "metadata": {},
   "outputs": [],
   "source": [
    "class PSO:\n",
    "    def __init__(self, f, NPARTICLE, DIM, RANGE, NITERATION, VMAX, C1, C2, WRANGE, W):\n",
    "        self.swarm = Swarm(f, NPARTICLE)\n",
    "        self.swarm.initialize()\n",
    "        self.g = self.getGlobalBest(self.swarm)\n",
    "        self.avg = np.zeros(NITERATION)\n",
    "        self.std = np.zeros(NITERATION)\n",
    "        self.bfit = np.zeros(NITERATION)\n",
    "        self.bx = [[] for i in range(NITERATION)]\n",
    "    \n",
    "    # Update the velocity of a particle\n",
    "    def updateVelocity(self, i, p, g):\n",
    "        r1 = np.random.random(DIM)\n",
    "        r2 = np.random.random(DIM)\n",
    "        p.v = W[i] * p.v + \\\n",
    "              C1 * r1 * (p.m - p.x) + \\\n",
    "              C2 * r2 * (g.x - p.x)\n",
    "        for i in range(DIM):\n",
    "            if(np.abs(p.v[i]) > VMAX):\n",
    "                p.v[i] = np.sign(p.v[i]) * VMAX        \n",
    "    \n",
    "    # Move a particle in the search space\n",
    "    def move(self, p):\n",
    "        p.x = p.x + p.v\n",
    "        for i in range(DIM):\n",
    "            if(p.x[i] < RANGE[0]):\n",
    "                p.x[i] = RANGE[0]\n",
    "            if(p.x[i] > RANGE[1]):\n",
    "                p.x[i] = RANGE[1]\n",
    "\n",
    "    # Evaluate a particle\n",
    "    def evaluate(self, p):\n",
    "        p.evaluate()\n",
    "\n",
    "    # Update local and global best memories\n",
    "    def updatePBAndGB(self, p, g):\n",
    "        if(p.fit_x <= p.fit_m):\n",
    "            p.m = copy.deepcopy(p.x)\n",
    "            p.fit_m = p.fit_x\n",
    "            if(p.fit_x <= g.fit_x):\n",
    "                g.x = copy.deepcopy(p.x)\n",
    "                g.fit_x = p.fit_x\n",
    "\n",
    "    # Find the best particle from the swarm\n",
    "    def getGlobalBest(self, swarm):\n",
    "        fits = [p.fit_x for p in swarm.particles]\n",
    "        i = fits.index(min(fits))\n",
    "        return swarm.particles[i].getCopy()\n",
    "    \n",
    "    def run(self):\n",
    "        for i in range(NITERATION):\n",
    "            for j in range(NPARTICLE):\n",
    "                self.updateVelocity(i, self.swarm.particles[j], self.g)\n",
    "                self.move(self.swarm.particles[j])\n",
    "                self.evaluate(self.swarm.particles[j])\n",
    "                self.updatePBAndGB(self.swarm.particles[j], self.g)\n",
    "            self.avg[i] = self.swarm.avgFitness()\n",
    "            self.std[i] = self.swarm.stdFitness(self.avg[i])\n",
    "            self.bfit[i] = self.g.fit_x\n",
    "            self.bx[i] = self.g.x"
   ]
  },
  {
   "cell_type": "code",
   "execution_count": 3,
   "id": "7b7f4c86-099a-411a-a0d7-c8327e262d56",
   "metadata": {},
   "outputs": [],
   "source": [
    "class StatsHandler:\n",
    "    def __init__(self, NRUN, f, NPARTICLE, DIM, RANGE, NITERATION, VMAX, C1, C2, WRANGE, W):\n",
    "        self.NRUN = NRUN\n",
    "        self.f = f\n",
    "        results = self.execute(NPARTICLE, DIM, RANGE, NITERATION, VMAX, C1, C2, WRANGE, W)\n",
    "        self.avg = results[\"avg\"]\n",
    "        self.std = results[\"std\"]\n",
    "        self.bestY = results[\"bestY\"]\n",
    "        self.bestG = results[\"bestG\"]\n",
    "\n",
    "    def execute(self, NPARTICLE, DIM, RANGE, NITERATION, VMAX, C1, C2, WRANGE, W):\n",
    "        # list of lists containing the top 5 solutions by iteration\n",
    "        bestY = [[] for i in range(NITERATION)]\n",
    "        bestG = []\n",
    "\n",
    "        for r in range(self.NRUN):\n",
    "            p = PSO(self.f, NPARTICLE, DIM, RANGE, NITERATION, VMAX, C1, C2, WRANGE, W)\n",
    "            p.run()\n",
    "            for i in range(NITERATION):\n",
    "                bestY[i].append(p.bfit[i])\n",
    "            bestG.append(p.g)\n",
    "\n",
    "        avg = [np.mean(i) for i in bestY]\n",
    "        std = [np.std(i) for i in bestY]\n",
    "\n",
    "        return {\n",
    "            \"avg\": avg,\n",
    "            \"std\": std,\n",
    "            \"bestY\": bestY,\n",
    "            \"bestG\": bestG\n",
    "        }\n",
    "    \n",
    "    def get_table(self):\n",
    "        df = pd.DataFrame()\n",
    "        for g in self.bestG:\n",
    "            dic = {f\"r{i}\": g.x[i] for i in range(len(g.x))}\n",
    "            dic[\"y\"] = str(\"{:.4e}\".format(g.fit_x))\n",
    "            df = df.append(dic, ignore_index=True)\n",
    "        return df\n",
    "    \n",
    "    def plot_convergence(self):\n",
    "        sns.set_style(\"dark\")\n",
    "        stats = pd.DataFrame(list(zip(self.avg, self.std)), columns=[\"mean\", \"std\"])\n",
    "        plt.figure(figsize=(20,10))\n",
    "        plt.grid()\n",
    "        plt.plot(stats.index, stats[\"mean\"], label=\"Mean\")\n",
    "        plt.fill_between(range(len(stats)), stats[\"mean\"]-stats[\"std\"], stats[\"mean\"]+stats[\"std\"], alpha = 0.5, label=\"Std. Dev.\")\n",
    "        plt.plot(stats.index, [min(stats[\"mean\"]) for i in range(len(stats.index))], label=\"Minimum\")\n",
    "        plt.xticks(np.arange(0, len(stats)+1, len(stats)/10))\n",
    "        plt.xlabel(\"Iteration\")\n",
    "        plt.ylabel(\"Average fitness\")\n",
    "        plt.title(\"Average fitness by Iteration\")\n",
    "        plt.legend()\n",
    "        plt.savefig(\"case1.png\", dpi=300)\n",
    "        plt.show()"
   ]
  },
  {
   "cell_type": "markdown",
   "id": "cb59f0be-b796-4c46-937b-7b6d22a2cb27",
   "metadata": {},
   "source": [
    "# 1. Primeiro caso de teste"
   ]
  },
  {
   "cell_type": "markdown",
   "id": "6cbcb476-2037-4ad9-bbbd-0fe88bf5db6d",
   "metadata": {},
   "source": [
    "## 1.1. Implementação"
   ]
  },
  {
   "cell_type": "code",
   "execution_count": 4,
   "id": "2041ba11-bc47-4aae-abb4-d2b418c41924",
   "metadata": {},
   "outputs": [],
   "source": [
    "def f(x):\n",
    "    return 10*(x[0]-1)**2 + 20*(x[1]-2)**2 + 30*(x[2]-3)**2"
   ]
  },
  {
   "cell_type": "markdown",
   "id": "395cec2a-6c50-42fe-b8a7-98499dd4646d",
   "metadata": {},
   "source": [
    "## 1.2. Execução"
   ]
  },
  {
   "cell_type": "code",
   "execution_count": 5,
   "id": "6dd5bd51-0282-43c9-a17e-57a76fdaa2ba",
   "metadata": {},
   "outputs": [
    {
     "ename": "NameError",
     "evalue": "name 'n' is not defined",
     "output_type": "error",
     "traceback": [
      "\u001b[0;31m---------------------------------------------------------------------------\u001b[0m",
      "\u001b[0;31mNameError\u001b[0m                                 Traceback (most recent call last)",
      "\u001b[0;32m<ipython-input-5-49f7ce81f3a2>\u001b[0m in \u001b[0;36m<module>\u001b[0;34m\u001b[0m\n\u001b[1;32m     11\u001b[0m \u001b[0mW\u001b[0m \u001b[0;34m=\u001b[0m \u001b[0;34m[\u001b[0m\u001b[0mWRANGE\u001b[0m\u001b[0;34m[\u001b[0m\u001b[0;36m1\u001b[0m\u001b[0;34m]\u001b[0m \u001b[0;34m-\u001b[0m \u001b[0;34m(\u001b[0m\u001b[0mWRANGE\u001b[0m\u001b[0;34m[\u001b[0m\u001b[0;36m1\u001b[0m\u001b[0;34m]\u001b[0m \u001b[0;34m-\u001b[0m \u001b[0mWRANGE\u001b[0m\u001b[0;34m[\u001b[0m\u001b[0;36m0\u001b[0m\u001b[0;34m]\u001b[0m\u001b[0;34m)\u001b[0m \u001b[0;34m*\u001b[0m \u001b[0mi\u001b[0m \u001b[0;34m/\u001b[0m \u001b[0mNITERATION\u001b[0m \u001b[0;32mfor\u001b[0m \u001b[0mi\u001b[0m \u001b[0;32min\u001b[0m \u001b[0mrange\u001b[0m\u001b[0;34m(\u001b[0m\u001b[0mNITERATION\u001b[0m\u001b[0;34m)\u001b[0m\u001b[0;34m]\u001b[0m\u001b[0;34m\u001b[0m\u001b[0;34m\u001b[0m\u001b[0m\n\u001b[1;32m     12\u001b[0m \u001b[0;34m\u001b[0m\u001b[0m\n\u001b[0;32m---> 13\u001b[0;31m \u001b[0ms\u001b[0m \u001b[0;34m=\u001b[0m \u001b[0mStatsHandler\u001b[0m\u001b[0;34m(\u001b[0m\u001b[0mNRUN\u001b[0m\u001b[0;34m,\u001b[0m \u001b[0mf\u001b[0m\u001b[0;34m,\u001b[0m \u001b[0mNPARTICLE\u001b[0m\u001b[0;34m,\u001b[0m \u001b[0mDIM\u001b[0m\u001b[0;34m,\u001b[0m \u001b[0mRANGE\u001b[0m\u001b[0;34m,\u001b[0m \u001b[0mNITERATION\u001b[0m\u001b[0;34m,\u001b[0m \u001b[0mVMAX\u001b[0m\u001b[0;34m,\u001b[0m \u001b[0mC1\u001b[0m\u001b[0;34m,\u001b[0m \u001b[0mC2\u001b[0m\u001b[0;34m,\u001b[0m \u001b[0mWRANGE\u001b[0m\u001b[0;34m,\u001b[0m \u001b[0mW\u001b[0m\u001b[0;34m)\u001b[0m\u001b[0;34m\u001b[0m\u001b[0;34m\u001b[0m\u001b[0m\n\u001b[0m",
      "\u001b[0;32m<ipython-input-3-656f9bcc36fa>\u001b[0m in \u001b[0;36m__init__\u001b[0;34m(self, NRUN, f, NPARTICLE, DIM, RANGE, NITERATION, VMAX, C1, C2, WRANGE, W)\u001b[0m\n\u001b[1;32m      3\u001b[0m         \u001b[0mself\u001b[0m\u001b[0;34m.\u001b[0m\u001b[0mNRUN\u001b[0m \u001b[0;34m=\u001b[0m \u001b[0mNRUN\u001b[0m\u001b[0;34m\u001b[0m\u001b[0;34m\u001b[0m\u001b[0m\n\u001b[1;32m      4\u001b[0m         \u001b[0mself\u001b[0m\u001b[0;34m.\u001b[0m\u001b[0mf\u001b[0m \u001b[0;34m=\u001b[0m \u001b[0mf\u001b[0m\u001b[0;34m\u001b[0m\u001b[0;34m\u001b[0m\u001b[0m\n\u001b[0;32m----> 5\u001b[0;31m         \u001b[0mresults\u001b[0m \u001b[0;34m=\u001b[0m \u001b[0mself\u001b[0m\u001b[0;34m.\u001b[0m\u001b[0mexecute\u001b[0m\u001b[0;34m(\u001b[0m\u001b[0mNPARTICLE\u001b[0m\u001b[0;34m,\u001b[0m \u001b[0mDIM\u001b[0m\u001b[0;34m,\u001b[0m \u001b[0mRANGE\u001b[0m\u001b[0;34m,\u001b[0m \u001b[0mNITERATION\u001b[0m\u001b[0;34m,\u001b[0m \u001b[0mVMAX\u001b[0m\u001b[0;34m,\u001b[0m \u001b[0mC1\u001b[0m\u001b[0;34m,\u001b[0m \u001b[0mC2\u001b[0m\u001b[0;34m,\u001b[0m \u001b[0mWRANGE\u001b[0m\u001b[0;34m,\u001b[0m \u001b[0mW\u001b[0m\u001b[0;34m)\u001b[0m\u001b[0;34m\u001b[0m\u001b[0;34m\u001b[0m\u001b[0m\n\u001b[0m\u001b[1;32m      6\u001b[0m         \u001b[0mself\u001b[0m\u001b[0;34m.\u001b[0m\u001b[0mavg\u001b[0m \u001b[0;34m=\u001b[0m \u001b[0mresults\u001b[0m\u001b[0;34m[\u001b[0m\u001b[0;34m\"avg\"\u001b[0m\u001b[0;34m]\u001b[0m\u001b[0;34m\u001b[0m\u001b[0;34m\u001b[0m\u001b[0m\n\u001b[1;32m      7\u001b[0m         \u001b[0mself\u001b[0m\u001b[0;34m.\u001b[0m\u001b[0mstd\u001b[0m \u001b[0;34m=\u001b[0m \u001b[0mresults\u001b[0m\u001b[0;34m[\u001b[0m\u001b[0;34m\"std\"\u001b[0m\u001b[0;34m]\u001b[0m\u001b[0;34m\u001b[0m\u001b[0;34m\u001b[0m\u001b[0m\n",
      "\u001b[0;32m<ipython-input-3-656f9bcc36fa>\u001b[0m in \u001b[0;36mexecute\u001b[0;34m(self, NPARTICLE, DIM, RANGE, NITERATION, VMAX, C1, C2, WRANGE, W)\u001b[0m\n\u001b[1;32m     15\u001b[0m \u001b[0;34m\u001b[0m\u001b[0m\n\u001b[1;32m     16\u001b[0m         \u001b[0;32mfor\u001b[0m \u001b[0mr\u001b[0m \u001b[0;32min\u001b[0m \u001b[0mrange\u001b[0m\u001b[0;34m(\u001b[0m\u001b[0mself\u001b[0m\u001b[0;34m.\u001b[0m\u001b[0mNRUN\u001b[0m\u001b[0;34m)\u001b[0m\u001b[0;34m:\u001b[0m\u001b[0;34m\u001b[0m\u001b[0;34m\u001b[0m\u001b[0m\n\u001b[0;32m---> 17\u001b[0;31m             \u001b[0mp\u001b[0m \u001b[0;34m=\u001b[0m \u001b[0mPSO\u001b[0m\u001b[0;34m(\u001b[0m\u001b[0mself\u001b[0m\u001b[0;34m.\u001b[0m\u001b[0mf\u001b[0m\u001b[0;34m,\u001b[0m \u001b[0mNPARTICLE\u001b[0m\u001b[0;34m,\u001b[0m \u001b[0mDIM\u001b[0m\u001b[0;34m,\u001b[0m \u001b[0mRANGE\u001b[0m\u001b[0;34m,\u001b[0m \u001b[0mNITERATION\u001b[0m\u001b[0;34m,\u001b[0m \u001b[0mVMAX\u001b[0m\u001b[0;34m,\u001b[0m \u001b[0mC1\u001b[0m\u001b[0;34m,\u001b[0m \u001b[0mC2\u001b[0m\u001b[0;34m,\u001b[0m \u001b[0mWRANGE\u001b[0m\u001b[0;34m,\u001b[0m \u001b[0mW\u001b[0m\u001b[0;34m)\u001b[0m\u001b[0;34m\u001b[0m\u001b[0;34m\u001b[0m\u001b[0m\n\u001b[0m\u001b[1;32m     18\u001b[0m             \u001b[0mp\u001b[0m\u001b[0;34m.\u001b[0m\u001b[0mrun\u001b[0m\u001b[0;34m(\u001b[0m\u001b[0;34m)\u001b[0m\u001b[0;34m\u001b[0m\u001b[0;34m\u001b[0m\u001b[0m\n\u001b[1;32m     19\u001b[0m             \u001b[0;32mfor\u001b[0m \u001b[0mi\u001b[0m \u001b[0;32min\u001b[0m \u001b[0mrange\u001b[0m\u001b[0;34m(\u001b[0m\u001b[0mNITERATION\u001b[0m\u001b[0;34m)\u001b[0m\u001b[0;34m:\u001b[0m\u001b[0;34m\u001b[0m\u001b[0;34m\u001b[0m\u001b[0m\n",
      "\u001b[0;32m<ipython-input-2-26d797e2ba23>\u001b[0m in \u001b[0;36m__init__\u001b[0;34m(self, f, NPARTICLE, DIM, RANGE, NITERATION, VMAX, C1, C2, WRANGE, W)\u001b[0m\n\u001b[1;32m      1\u001b[0m \u001b[0;32mclass\u001b[0m \u001b[0mPSO\u001b[0m\u001b[0;34m:\u001b[0m\u001b[0;34m\u001b[0m\u001b[0;34m\u001b[0m\u001b[0m\n\u001b[1;32m      2\u001b[0m     \u001b[0;32mdef\u001b[0m \u001b[0m__init__\u001b[0m\u001b[0;34m(\u001b[0m\u001b[0mself\u001b[0m\u001b[0;34m,\u001b[0m \u001b[0mf\u001b[0m\u001b[0;34m,\u001b[0m \u001b[0mNPARTICLE\u001b[0m\u001b[0;34m,\u001b[0m \u001b[0mDIM\u001b[0m\u001b[0;34m,\u001b[0m \u001b[0mRANGE\u001b[0m\u001b[0;34m,\u001b[0m \u001b[0mNITERATION\u001b[0m\u001b[0;34m,\u001b[0m \u001b[0mVMAX\u001b[0m\u001b[0;34m,\u001b[0m \u001b[0mC1\u001b[0m\u001b[0;34m,\u001b[0m \u001b[0mC2\u001b[0m\u001b[0;34m,\u001b[0m \u001b[0mWRANGE\u001b[0m\u001b[0;34m,\u001b[0m \u001b[0mW\u001b[0m\u001b[0;34m)\u001b[0m\u001b[0;34m:\u001b[0m\u001b[0;34m\u001b[0m\u001b[0;34m\u001b[0m\u001b[0m\n\u001b[0;32m----> 3\u001b[0;31m         \u001b[0mself\u001b[0m\u001b[0;34m.\u001b[0m\u001b[0mswarm\u001b[0m \u001b[0;34m=\u001b[0m \u001b[0mSwarm\u001b[0m\u001b[0;34m(\u001b[0m\u001b[0mf\u001b[0m\u001b[0;34m,\u001b[0m \u001b[0mNPARTICLE\u001b[0m\u001b[0;34m,\u001b[0m \u001b[0mn\u001b[0m\u001b[0;34m)\u001b[0m\u001b[0;34m\u001b[0m\u001b[0;34m\u001b[0m\u001b[0m\n\u001b[0m\u001b[1;32m      4\u001b[0m         \u001b[0mself\u001b[0m\u001b[0;34m.\u001b[0m\u001b[0mswarm\u001b[0m\u001b[0;34m.\u001b[0m\u001b[0minitialize\u001b[0m\u001b[0;34m(\u001b[0m\u001b[0;34m)\u001b[0m\u001b[0;34m\u001b[0m\u001b[0;34m\u001b[0m\u001b[0m\n\u001b[1;32m      5\u001b[0m         \u001b[0mself\u001b[0m\u001b[0;34m.\u001b[0m\u001b[0mg\u001b[0m \u001b[0;34m=\u001b[0m \u001b[0mself\u001b[0m\u001b[0;34m.\u001b[0m\u001b[0mgetGlobalBest\u001b[0m\u001b[0;34m(\u001b[0m\u001b[0mself\u001b[0m\u001b[0;34m.\u001b[0m\u001b[0mswarm\u001b[0m\u001b[0;34m)\u001b[0m\u001b[0;34m\u001b[0m\u001b[0;34m\u001b[0m\u001b[0m\n",
      "\u001b[0;31mNameError\u001b[0m: name 'n' is not defined"
     ]
    }
   ],
   "source": [
    "NRUN = 5\n",
    "f = f\n",
    "NPARTICLE = 20\n",
    "DIM = 3\n",
    "RANGE = (-5, 5)\n",
    "NITERATION = 500\n",
    "VMAX = (RANGE[1] - RANGE[0]) / 2.0\n",
    "C1 = 2.05\n",
    "C2 = 2.05\n",
    "WRANGE = (.4, .9)\n",
    "W = [WRANGE[1] - (WRANGE[1] - WRANGE[0]) * i / NITERATION for i in range(NITERATION)]\n",
    "\n",
    "s = StatsHandler(NRUN, f, NPARTICLE, DIM, RANGE, NITERATION, VMAX, C1, C2, WRANGE, W)"
   ]
  },
  {
   "cell_type": "markdown",
   "id": "a0eec925-f378-43a7-b3b5-2a0dd34a0c3f",
   "metadata": {},
   "source": [
    "## 1.3. Resultados"
   ]
  },
  {
   "cell_type": "markdown",
   "id": "7cab5f19-2313-4399-883e-9999ea4dbade",
   "metadata": {},
   "source": [
    "### 1.3.1. Tabela"
   ]
  },
  {
   "cell_type": "code",
   "execution_count": null,
   "id": "e981eb12-62d1-4ce9-a369-54cb6963dc42",
   "metadata": {},
   "outputs": [],
   "source": [
    "s.get_table()"
   ]
  },
  {
   "cell_type": "markdown",
   "id": "669c2c8a-83dc-4cf7-ae9b-294256145fe4",
   "metadata": {},
   "source": [
    "### 1.3.2. Gráfico de Convergência"
   ]
  },
  {
   "cell_type": "code",
   "execution_count": null,
   "id": "8480c8f5-9e3a-4dd5-a63a-f6385596294d",
   "metadata": {},
   "outputs": [],
   "source": [
    "s.plot_convergence()"
   ]
  },
  {
   "cell_type": "markdown",
   "id": "333e7a88-431d-4b46-bbc5-5e1e70e9b544",
   "metadata": {},
   "source": [
    "# 2. Segundo caso de teste"
   ]
  },
  {
   "cell_type": "markdown",
   "id": "f0aca2f4-fd0e-482c-a02f-1824d5f3940f",
   "metadata": {},
   "source": [
    "## 2.1. Implementação"
   ]
  },
  {
   "cell_type": "code",
   "execution_count": null,
   "id": "100aff41-7139-4050-b7d0-3c9f34726c04",
   "metadata": {},
   "outputs": [],
   "source": [
    "target_word = [\n",
    "    52.547, 72.154, 53.694, 57.771, 115.88, 105.59, 75.368, 126.02,\n",
    "    52.756, 85.100, 80.525, 111.24, 113.62, 64.95, 89.181, 85.647,\n",
    "    101.71, 106.75, 110.37, 72.082, 104.38, 102.41, 63.009, 59.52,\n",
    "    89.869, 126.78, 77.231, 96.821, 67.905, 110.1\n",
    "]\n",
    "\n",
    "def f(word, target=target_word):\n",
    "    return (sum([(target[i] - word[i])**2 for i in range(len(target))]))**.5"
   ]
  },
  {
   "cell_type": "markdown",
   "id": "efdb229e-93a7-486c-893c-73230545390f",
   "metadata": {},
   "source": [
    "## 2.2. Execução"
   ]
  },
  {
   "cell_type": "code",
   "execution_count": null,
   "id": "6fbadf13-ce6a-40b8-94fa-abc07d4f46ef",
   "metadata": {},
   "outputs": [],
   "source": [
    "s = StatsHandler(\n",
    "    NRUN = 5,\n",
    "    f = f,\n",
    "    NPARTICLE = 20,\n",
    "    DIM = len(target_word),\n",
    "    RANGE = (min(target_word), max(target_word)),\n",
    "    NITERATION = 500,\n",
    "    VMAX = (RANGE[1] - RANGE[0]) / 2.0,\n",
    "    C1 = 2.05,\n",
    "    C2 = 2.05,\n",
    "    WRANGE = (.4, .9),\n",
    "    W = [WRANGE[1] - (WRANGE[1] - WRANGE[0]) * i / NITERATION for i in range(NITERATION)]\n",
    ")"
   ]
  },
  {
   "cell_type": "markdown",
   "id": "02d18f26-137e-492c-86ca-9a4888d67ff5",
   "metadata": {},
   "source": [
    "## 2.3. Resultados"
   ]
  },
  {
   "cell_type": "markdown",
   "id": "c5f9e7be-ab9a-4257-bcd1-10ac54901caf",
   "metadata": {},
   "source": [
    "### 2.3.1. Tabela"
   ]
  },
  {
   "cell_type": "code",
   "execution_count": null,
   "id": "18934f21-8edb-4c7c-9b45-0322f4c614e4",
   "metadata": {},
   "outputs": [],
   "source": [
    "s.get_table()"
   ]
  },
  {
   "cell_type": "markdown",
   "id": "549b0874-ffa0-4635-9572-38d7e84e37d5",
   "metadata": {},
   "source": [
    "### 2.3.2. Gráfico de Convergência"
   ]
  },
  {
   "cell_type": "code",
   "execution_count": null,
   "id": "40d9b6dd-99a0-465f-9e3a-274cc23956c8",
   "metadata": {},
   "outputs": [],
   "source": [
    "s.plot_convergence()"
   ]
  }
 ],
 "metadata": {
  "kernelspec": {
   "display_name": "Python 3",
   "language": "python",
   "name": "python3"
  },
  "language_info": {
   "codemirror_mode": {
    "name": "ipython",
    "version": 3
   },
   "file_extension": ".py",
   "mimetype": "text/x-python",
   "name": "python",
   "nbconvert_exporter": "python",
   "pygments_lexer": "ipython3",
   "version": "3.8.5"
  }
 },
 "nbformat": 4,
 "nbformat_minor": 5
}
