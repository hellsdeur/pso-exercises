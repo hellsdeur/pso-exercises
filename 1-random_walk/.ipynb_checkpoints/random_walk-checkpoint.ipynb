{
 "cells": [
  {
   "cell_type": "markdown",
   "id": "45b504c1-047c-4964-a0be-bf47311e1654",
   "metadata": {},
   "source": [
    "# Primeiro Trabalho - Random Walk"
   ]
  },
  {
   "cell_type": "code",
   "execution_count": 1,
   "id": "6f0fcd46-2786-4615-ae90-1f275003188f",
   "metadata": {},
   "outputs": [],
   "source": [
    "import numpy as np\n",
    "import pandas as pd\n",
    "import matplotlib.pyplot as plt\n",
    "import seaborn as sns"
   ]
  },
  {
   "cell_type": "markdown",
   "id": "cc1db3e6-1471-455f-a88d-e9f830b959e3",
   "metadata": {},
   "source": [
    "## 1. Primeiro caso de teste"
   ]
  },
  {
   "cell_type": "markdown",
   "id": "6231b266-ef52-482b-bf13-d3373fe16446",
   "metadata": {},
   "source": [
    "### 1.1 Implementação"
   ]
  },
  {
   "cell_type": "code",
   "execution_count": 2,
   "id": "93341caa-0de8-4b10-bc39-935cc2f2074d",
   "metadata": {},
   "outputs": [],
   "source": [
    "class RandomWalk:\n",
    "    def __init__(self, bounds, function, cutoff, n_samples):\n",
    "        self.n_samples = n_samples # number of samples in population\n",
    "        self.bounds = bounds       # dict of bounds for each variable\n",
    "        self.function = function   # objective function\n",
    "        self.cutoff = cutoff       # proportion of surviving samples (0,1)\n",
    "        self.population = pd.DataFrame(columns=[f\"x{i}\" for i in range(len(self.bounds))])\n",
    "        self.stats = pd.DataFrame(columns=[\"mean\", \"std\"])\n",
    "\n",
    "    def populate(self, n_samples):\n",
    "        for s in range(n_samples):\n",
    "            sample = {}\n",
    "            # each sample is identified by xi and contains len(bounds) variables taken from an uniform distribution [0,1)                                        \n",
    "            sample = {f\"x{i}\": np.random.uniform(0,1,len(self.bounds))[i] for i in range(len(self.bounds))}\n",
    "            \n",
    "            # normalize samples to fit the specified bounds\n",
    "            for i in range(len(sample)):\n",
    "                sample[f\"x{i}\"] = self.bounds[i][\"lb\"] + (self.bounds[i][\"ub\"] - self.bounds[i][\"lb\"]) * sample[f\"x{i}\"]\n",
    "            \n",
    "            # append to population and get value of function for each sample\n",
    "            self.population = self.population.append(sample, ignore_index=True)\n",
    "        self.population['y'] = self.function(*[self.population[f'{col}'] for col in self.population.columns if col != 'y'])\n",
    "    \n",
    "    def select(self):\n",
    "        # sort population by value of function\n",
    "        self.population.sort_values(by=['y'], ignore_index=True, inplace=True)\n",
    "        \n",
    "        # select survivors based on cutoff proportion\n",
    "        self.population.drop(self.population[self.population.index >= len(self.population)*self.cutoff].index, inplace=True)\n",
    "        \n",
    "        self.population.reset_index(drop=True, inplace=True)\n",
    "        \n",
    "    \n",
    "    def walk(self, gen):\n",
    "        # generate initial population and select its best samples\n",
    "        self.populate(self.n_samples)\n",
    "        self.select()\n",
    "        \n",
    "        while (gen):\n",
    "            # for each generation, repopulate the population and select its best samples\n",
    "            self.populate(self.n_samples - len(self.population))\n",
    "            self.select()\n",
    "            \n",
    "            gen_stats = {\"mean\": self.population['y'].head().mean(),\n",
    "                         \"std\": self.population['y'].head().std()}\n",
    "            self.stats = self.stats.append(gen_stats, ignore_index=True)\n",
    "            \n",
    "            gen -= 1\n",
    "    \n",
    "    def get_best(self):\n",
    "        return self.population.head()\n",
    "    \n",
    "    def plot_convergence(self):\n",
    "        sns.set_style(\"dark\")\n",
    "        plt.figure(figsize=(20,10))\n",
    "        plt.plot(self.stats.index, self.stats[\"mean\"], label=\"Mean\")\n",
    "        plt.plot(self.stats.index, [min(self.stats[\"mean\"]) for i in range(len(self.stats.index))], label=\"Minimum\")\n",
    "        plt.fill_between(range(len(self.stats)), self.stats[\"mean\"]-self.stats[\"std\"], self.stats[\"mean\"]+self.stats[\"std\"], alpha = 0.5, label=\"Std. Dev.\")\n",
    "#         plt.xticks(np.arange(0, len(self.stats)+1, len(self.stats)/10))\n",
    "#         y_max = max(self.stats[\"mean\"]) + max(self.stats[\"std\"])\n",
    "#         plt.yticks(np.arange(0, y_max+1, y_max/20))\n",
    "        plt.locator_params(axis=\"x\", nbins=20)\n",
    "        plt.locator_params(axis=\"y\", nbins=20)\n",
    "        plt.xlabel(\"Generation\")\n",
    "        plt.ylabel(\"Fitness values\")\n",
    "        plt.title(\"Fitness by Generation\")\n",
    "        plt.legend()\n",
    "        plt.show()"
   ]
  },
  {
   "cell_type": "markdown",
   "id": "20af1ff8-3034-493a-885b-c7fef30935b0",
   "metadata": {},
   "source": [
    "### 1.2 Execução"
   ]
  },
  {
   "cell_type": "code",
   "execution_count": 3,
   "id": "a1abf98c-8bc6-4f60-a820-ff327b749e54",
   "metadata": {},
   "outputs": [
    {
     "name": "stdout",
     "output_type": "stream",
     "text": [
      "52.547\n",
      "126.78\n"
     ]
    }
   ],
   "source": [
    "bounds = [{\"lb\": -3, \"ub\": 3},\n",
    "          {\"lb\": -2, \"ub\": 4},\n",
    "          {\"lb\": 0, \"ub\": 6}]\n",
    "\n",
    "lambda_f = lambda x0, x1, x2: 10*(x0-1)**2 + 20*(x1-2)**2 + 30*(x2-3)**2\n",
    "\n",
    "targets = [52.547, 72.154, 53.694, 57.771, 115.88, 105.59, 75.368, 126.02,\n",
    "           52.756, 85.100, 80.525, 111.24, 113.62, 64.95, 89.181, 85.647,\n",
    "           101.71, 106.75, 110.37, 72.082, 104.38, 102.41, 63.009, 59.52,\n",
    "           89.869, 126.78, 77.231, 96.821, 67.905, 110.1]\n",
    "\n",
    "rw = RandomWalk(bounds, lambda_f, .9, 100)\n",
    "rw.walk(1000)"
   ]
  },
  {
   "cell_type": "markdown",
   "id": "f00e166c-d924-42ee-a8b4-518561311e5b",
   "metadata": {},
   "source": [
    "### 1.3 Resultados"
   ]
  },
  {
   "cell_type": "markdown",
   "id": "f9c73b97-7d4e-45ab-99c3-795e6d042241",
   "metadata": {},
   "source": [
    "#### 1.3.1 Tabela"
   ]
  },
  {
   "cell_type": "code",
   "execution_count": 4,
   "id": "07c88e27-fc02-4e8f-8473-e31358b268bb",
   "metadata": {},
   "outputs": [
    {
     "data": {
      "text/html": [
       "<div>\n",
       "<style scoped>\n",
       "    .dataframe tbody tr th:only-of-type {\n",
       "        vertical-align: middle;\n",
       "    }\n",
       "\n",
       "    .dataframe tbody tr th {\n",
       "        vertical-align: top;\n",
       "    }\n",
       "\n",
       "    .dataframe thead th {\n",
       "        text-align: right;\n",
       "    }\n",
       "</style>\n",
       "<table border=\"1\" class=\"dataframe\">\n",
       "  <thead>\n",
       "    <tr style=\"text-align: right;\">\n",
       "      <th></th>\n",
       "      <th>x0</th>\n",
       "      <th>x1</th>\n",
       "      <th>x2</th>\n",
       "      <th>y</th>\n",
       "    </tr>\n",
       "  </thead>\n",
       "  <tbody>\n",
       "    <tr>\n",
       "      <th>0</th>\n",
       "      <td>1.045423</td>\n",
       "      <td>1.929821</td>\n",
       "      <td>3.022196</td>\n",
       "      <td>0.133913</td>\n",
       "    </tr>\n",
       "    <tr>\n",
       "      <th>1</th>\n",
       "      <td>0.916113</td>\n",
       "      <td>2.021794</td>\n",
       "      <td>3.068196</td>\n",
       "      <td>0.219391</td>\n",
       "    </tr>\n",
       "    <tr>\n",
       "      <th>2</th>\n",
       "      <td>1.143518</td>\n",
       "      <td>2.079880</td>\n",
       "      <td>2.975962</td>\n",
       "      <td>0.350928</td>\n",
       "    </tr>\n",
       "    <tr>\n",
       "      <th>3</th>\n",
       "      <td>0.782337</td>\n",
       "      <td>2.088091</td>\n",
       "      <td>3.053709</td>\n",
       "      <td>0.715513</td>\n",
       "    </tr>\n",
       "    <tr>\n",
       "      <th>4</th>\n",
       "      <td>0.766139</td>\n",
       "      <td>1.965471</td>\n",
       "      <td>3.138476</td>\n",
       "      <td>1.146021</td>\n",
       "    </tr>\n",
       "  </tbody>\n",
       "</table>\n",
       "</div>"
      ],
      "text/plain": [
       "         x0        x1        x2         y\n",
       "0  1.045423  1.929821  3.022196  0.133913\n",
       "1  0.916113  2.021794  3.068196  0.219391\n",
       "2  1.143518  2.079880  2.975962  0.350928\n",
       "3  0.782337  2.088091  3.053709  0.715513\n",
       "4  0.766139  1.965471  3.138476  1.146021"
      ]
     },
     "execution_count": 4,
     "metadata": {},
     "output_type": "execute_result"
    }
   ],
   "source": [
    "rw.get_best()"
   ]
  },
  {
   "cell_type": "markdown",
   "id": "6550a231-ae11-43a6-bf09-8b6e5e44bb82",
   "metadata": {},
   "source": [
    "#### 1.3.2 Gráfico de Convergência"
   ]
  },
  {
   "cell_type": "code",
   "execution_count": 5,
   "id": "ddcb07e6-84d2-4545-9a5d-c6e0f0d77dcd",
   "metadata": {},
   "outputs": [
    {
     "data": {
      "image/png": "[encoded data removed]",
      "text/plain": [
       "<Figure size 1440x720 with 1 Axes>"
      ]
     },
     "metadata": {},
     "output_type": "display_data"
    }
   ],
   "source": [
    "rw.plot_convergence()"
   ]
  }
 ],
 "metadata": {
  "kernelspec": {
   "display_name": "Python 3",
   "language": "python",
   "name": "python3"
  },
  "language_info": {
   "codemirror_mode": {
    "name": "ipython",
    "version": 3
   },
   "file_extension": ".py",
   "mimetype": "text/x-python",
   "name": "python",
   "nbconvert_exporter": "python",
   "pygments_lexer": "ipython3",
   "version": "3.8.5"
  }
 },
 "nbformat": 4,
 "nbformat_minor": 5
}
