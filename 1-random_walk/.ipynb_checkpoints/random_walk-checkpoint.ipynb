{
 "cells": [
  {
   "cell_type": "markdown",
   "id": "45b504c1-047c-4964-a0be-bf47311e1654",
   "metadata": {},
   "source": [
    "# Primeiro Trabalho - Random Walk"
   ]
  },
  {
   "cell_type": "markdown",
   "id": "db2fdf3a-73d5-4ff8-8dac-84fee85e1ffb",
   "metadata": {},
   "source": [
    "- [0. Introdução](##-0.-Introdução)\n",
    "    - [0.1 Random Walk](#-0.1-Random-Walk)\n",
    "- [1. Primeiro caso de teste](##1.-Primeiro-caso-de-teste)\n",
    "    - [1.1 Implementação](###-1.1-Implementação)\n",
    "    - [1.2 Execução](###-1.2-Execução)\n",
    "    - [1.3 Resultados](###-1.3-Resultados)\n",
    "        - [1.3.1 Tabela](####-1.3.1-Tabela)\n",
    "        - [1.3.2 Gráfico de Convergência](####-1.3.2-Gráfico-de-Convergência)\n",
    "- [2. Segundo caso de teste](##-2.-Segundo-caso-de-teste)\n",
    "    - [2.1 Implementação](###-2.1-Implementação)\n",
    "    - [2.2 Execução](###-2.2-Execução)\n",
    "    - [2.3 Resultados](###-2.3-Resultados)\n",
    "        - [2.3.1 Tabela](####-2.3.1-Tabela)\n",
    "        - [2.3.2 Gráfico de Convergência](####-2.3.2-Gráfico-de-Convergência)"
   ]
  },
  {
   "cell_type": "code",
   "execution_count": 1,
   "id": "6f0fcd46-2786-4615-ae90-1f275003188f",
   "metadata": {},
   "outputs": [],
   "source": [
    "import numpy as np\n",
    "import pandas as pd\n",
    "import matplotlib.pyplot as plt\n",
    "import seaborn as sns"
   ]
  },
  {
   "cell_type": "markdown",
   "id": "cc1db3e6-1471-455f-a88d-e9f830b959e3",
   "metadata": {},
   "source": [
    "## 1. Primeiro caso de teste"
   ]
  },
  {
   "cell_type": "markdown",
   "id": "6231b266-ef52-482b-bf13-d3373fe16446",
   "metadata": {},
   "source": [
    "### 1.1 Implementação"
   ]
  },
  {
   "cell_type": "code",
   "execution_count": 2,
   "id": "93341caa-0de8-4b10-bc39-935cc2f2074d",
   "metadata": {},
   "outputs": [],
   "source": [
    "class RandomWalk:\n",
    "    def __init__(self, n_samples, bounds, function, cutoff, n_gen):\n",
    "        self.n_samples = n_samples # number of samples in population\n",
    "        self.bounds = bounds       # dict of bounds for each variable\n",
    "        self.function = function   # objective function\n",
    "        self.cutoff = cutoff       # proportion of surviving samples (0,1)\n",
    "        self.n_gen = n_gen         # number of generations\n",
    "        self.population = pd.DataFrame(columns=[f\"x{i}\" for i in range(len(self.bounds))])\n",
    "        self.stats = pd.DataFrame(columns=[\"mean\", \"std\"])\n",
    "        self.best_solutions = pd.DataFrame(columns=self.population.columns)\n",
    "\n",
    "    # generate or complement population of viable solutions\n",
    "    def populate(self, n_samples):\n",
    "        for s in range(n_samples):\n",
    "            sample = {}\n",
    "            # each sample is identified by xi and contains len(bounds) values taken from an uniform distribution [0,1)\n",
    "            r = np.random.uniform(0,1,len(self.bounds))\n",
    "            sample = {f\"x{i}\": r[i] for i in range(len(self.bounds))}\n",
    "            \n",
    "            # normalize samples to fit the specified bounds\n",
    "            for i in range(len(sample)):\n",
    "                sample[f\"x{i}\"] = self.bounds[i][\"lb\"] + (self.bounds[i][\"ub\"] - self.bounds[i][\"lb\"]) * sample[f\"x{i}\"]\n",
    "            \n",
    "            # append to population and get value of function for each sample\n",
    "            self.population = self.population.append(sample, ignore_index=True)\n",
    "        \n",
    "        # calculate objective function for each function \n",
    "        self.population['y'] = self.function(*[self.population[f'{col}'] for col in self.population.columns if col != 'y'])\n",
    "    \n",
    "    # define surviving population\n",
    "    def select(self):\n",
    "        # sort population by value of function\n",
    "        self.population.sort_values(by=['y'], ignore_index=True, inplace=True)\n",
    "        \n",
    "        # select survivors based on cutoff proportion\n",
    "        self.population.drop(self.population[self.population.index >= len(self.population)*self.cutoff].index, inplace=True)\n",
    "        \n",
    "        self.population.reset_index(drop=True, inplace=True)\n",
    "        \n",
    "    # populate, select and extract stats through a given number of rounds\n",
    "    def execute(self, n_exec):\n",
    "        best_y = pd.DataFrame(columns=[f\"gen_{i}\" for i in range(self.n_gen+1)])\n",
    "        self.best_solutions = pd.DataFrame(columns=self.population.columns)\n",
    "        \n",
    "        for e in range(n_exec):\n",
    "            # generate initial population and select its best samples\n",
    "            self.population = self.population.iloc[0:0]\n",
    "            self.populate(self.n_samples)\n",
    "            self.select()\n",
    "            \n",
    "            # dict to store best samples by generation\n",
    "            best_in_gen = {}\n",
    "            \n",
    "            for g in range(self.n_gen+1):\n",
    "                # repopulate and select best samples\n",
    "                self.populate(self.n_samples - len(self.population))\n",
    "                self.select()\n",
    "                \n",
    "                # extract best objective function in generation\n",
    "                best_in_gen[f\"gen_{g}\"] = self.population['y'].iloc[0]\n",
    "            \n",
    "            # append best solutions by execution\n",
    "            best_y = best_y.append(best_in_gen, ignore_index=True)\n",
    "            \n",
    "            # extract best sample by execution\n",
    "            self.best_solutions = self.best_solutions.append(self.population.iloc[0], ignore_index=True)\n",
    "        \n",
    "        # extract mean and std dev by generation\n",
    "        self.stats = best_y.describe().loc[['mean','std']].T\n",
    "    \n",
    "    def get_best_solutions(self):\n",
    "        return self.best_solutions\n",
    "    \n",
    "    def plot_convergence(self):\n",
    "        sns.set_style(\"dark\")\n",
    "        plt.figure(figsize=(30,10))\n",
    "        plt.grid()\n",
    "        plt.plot(self.stats.index, self.stats[\"mean\"], label=\"Mean\")\n",
    "        plt.fill_between(range(len(self.stats)), self.stats[\"mean\"]-self.stats[\"std\"], self.stats[\"mean\"]+self.stats[\"std\"], alpha = 0.5, label=\"Std. Dev.\")\n",
    "        plt.plot(self.stats.index, [min(self.stats[\"mean\"]) for i in range(len(self.stats.index))], label=\"Minimum\")\n",
    "        plt.xticks(np.arange(0, self.n_gen+1, self.n_gen/10))\n",
    "        plt.xlabel(\"Generation\")\n",
    "        plt.ylabel(\"Fitness values\")\n",
    "        plt.title(\"Fitness by Generation\")\n",
    "        plt.legend()\n",
    "        plt.savefig(\"case1.png\", dpi=300)\n",
    "        plt.show()"
   ]
  },
  {
   "cell_type": "markdown",
   "id": "20af1ff8-3034-493a-885b-c7fef30935b0",
   "metadata": {},
   "source": [
    "### 1.2 Execução"
   ]
  },
  {
   "cell_type": "code",
   "execution_count": 3,
   "id": "a1abf98c-8bc6-4f60-a820-ff327b749e54",
   "metadata": {},
   "outputs": [],
   "source": [
    "bounds = [{\"lb\": -3, \"ub\": 3},\n",
    "          {\"lb\": -2, \"ub\": 4},\n",
    "          {\"lb\": 0, \"ub\": 6}]\n",
    "\n",
    "lambda_f = lambda x0, x1, x2: 10*(x0-1)**2 + 20*(x1-2)**2 + 30*(x2-3)**2\n",
    "\n",
    "rw = RandomWalk(100, bounds, lambda_f, .9, 10000)\n",
    "rw.execute(5)"
   ]
  },
  {
   "cell_type": "markdown",
   "id": "f00e166c-d924-42ee-a8b4-518561311e5b",
   "metadata": {},
   "source": [
    "### 1.3 Resultados"
   ]
  },
  {
   "cell_type": "markdown",
   "id": "f9c73b97-7d4e-45ab-99c3-795e6d042241",
   "metadata": {},
   "source": [
    "#### 1.3.1 Tabela"
   ]
  },
  {
   "cell_type": "code",
   "execution_count": 4,
   "id": "07c88e27-fc02-4e8f-8473-e31358b268bb",
   "metadata": {},
   "outputs": [
    {
     "data": {
      "text/html": [
       "<div>\n",
       "<style scoped>\n",
       "    .dataframe tbody tr th:only-of-type {\n",
       "        vertical-align: middle;\n",
       "    }\n",
       "\n",
       "    .dataframe tbody tr th {\n",
       "        vertical-align: top;\n",
       "    }\n",
       "\n",
       "    .dataframe thead th {\n",
       "        text-align: right;\n",
       "    }\n",
       "</style>\n",
       "<table border=\"1\" class=\"dataframe\">\n",
       "  <thead>\n",
       "    <tr style=\"text-align: right;\">\n",
       "      <th></th>\n",
       "      <th>x0</th>\n",
       "      <th>x1</th>\n",
       "      <th>x2</th>\n",
       "      <th>y</th>\n",
       "    </tr>\n",
       "  </thead>\n",
       "  <tbody>\n",
       "    <tr>\n",
       "      <th>0</th>\n",
       "      <td>1.051272</td>\n",
       "      <td>2.032091</td>\n",
       "      <td>3.007355</td>\n",
       "      <td>0.048508</td>\n",
       "    </tr>\n",
       "    <tr>\n",
       "      <th>1</th>\n",
       "      <td>0.961669</td>\n",
       "      <td>1.963361</td>\n",
       "      <td>2.985544</td>\n",
       "      <td>0.047809</td>\n",
       "    </tr>\n",
       "    <tr>\n",
       "      <th>2</th>\n",
       "      <td>1.155116</td>\n",
       "      <td>2.037665</td>\n",
       "      <td>2.982825</td>\n",
       "      <td>0.277833</td>\n",
       "    </tr>\n",
       "    <tr>\n",
       "      <th>3</th>\n",
       "      <td>0.998215</td>\n",
       "      <td>2.056121</td>\n",
       "      <td>2.966858</td>\n",
       "      <td>0.095973</td>\n",
       "    </tr>\n",
       "    <tr>\n",
       "      <th>4</th>\n",
       "      <td>0.861771</td>\n",
       "      <td>1.955221</td>\n",
       "      <td>2.999768</td>\n",
       "      <td>0.231178</td>\n",
       "    </tr>\n",
       "  </tbody>\n",
       "</table>\n",
       "</div>"
      ],
      "text/plain": [
       "         x0        x1        x2         y\n",
       "0  1.051272  2.032091  3.007355  0.048508\n",
       "1  0.961669  1.963361  2.985544  0.047809\n",
       "2  1.155116  2.037665  2.982825  0.277833\n",
       "3  0.998215  2.056121  2.966858  0.095973\n",
       "4  0.861771  1.955221  2.999768  0.231178"
      ]
     },
     "execution_count": 4,
     "metadata": {},
     "output_type": "execute_result"
    }
   ],
   "source": [
    "rw.get_best_solutions()"
   ]
  },
  {
   "cell_type": "markdown",
   "id": "6550a231-ae11-43a6-bf09-8b6e5e44bb82",
   "metadata": {},
   "source": [
    "#### 1.3.2 Gráfico de Convergência"
   ]
  },
  {
   "cell_type": "code",
   "execution_count": 5,
   "id": "ddcb07e6-84d2-4545-9a5d-c6e0f0d77dcd",
   "metadata": {},
   "outputs": [
    {
     "data": {
      "image/png": "[encoded data removed]",
      "text/plain": [
       "<Figure size 2160x720 with 1 Axes>"
      ]
     },
     "metadata": {},
     "output_type": "display_data"
    }
   ],
   "source": [
    "rw.plot_convergence()"
   ]
  },
  {
   "cell_type": "markdown",
   "id": "1e16e857-810b-483a-a115-36168b82b846",
   "metadata": {},
   "source": [
    "## 2. Segundo caso de teste"
   ]
  },
  {
   "cell_type": "markdown",
   "id": "e3ba0e40-9199-472a-829b-5c7789194d3a",
   "metadata": {},
   "source": [
    "### 2.1 Implementação"
   ]
  },
  {
   "cell_type": "code",
   "execution_count": 13,
   "id": "c146b87c-fd02-43cc-8528-7bc992f9bb7c",
   "metadata": {},
   "outputs": [],
   "source": [
    "class RandomWalk:\n",
    "    def __init__(self, n_samples, target, bounds, function, cutoff, n_gen):\n",
    "        self.n_samples = n_samples # number of samples in population\n",
    "        self.target = target       # list that represents target\n",
    "        self.bounds = bounds       # dict of bounds\n",
    "        self.function = function   # objective function\n",
    "        self.cutoff = cutoff       # proportion of surviving samples (0,1)\n",
    "        self.n_gen = n_gen         # number of generations\n",
    "        self.population = pd.DataFrame(columns=[f\"t{i}\" for i in range(len(self.target))])\n",
    "        self.stats = pd.DataFrame(columns=[\"mean\", \"std\"])\n",
    "        self.best_solutions = pd.DataFrame(columns=self.population.columns)\n",
    "\n",
    "    # generate or complement population of viable solutions\n",
    "    def populate(self, n_samples):\n",
    "        for s in range(n_samples):\n",
    "            sample = {}\n",
    "            # each sample contains len(target) variables taken from an uniform distribution [0,1)\n",
    "            r = np.random.uniform(0,1,len(self.target))\n",
    "            sample = {f\"t{i}\": r[i] for i in range(len(self.target))}\n",
    "            \n",
    "            # normalize samples to fit the specified bounds\n",
    "            for i in range(len(sample)):\n",
    "                sample[f\"t{i}\"] = self.bounds[\"lb\"] + (self.bounds[\"ub\"] - self.bounds[\"lb\"]) * sample[f\"t{i}\"]\n",
    "            \n",
    "            # append to population\n",
    "            self.population = self.population.append(sample, ignore_index=True)\n",
    "        \n",
    "        # calculate objective function for each function \n",
    "        self.population['y'] = self.function([self.population[f\"{col}\"] for col in self.population.columns if col != 'y'])\n",
    "    \n",
    "    # define surviving population\n",
    "    def select(self):\n",
    "        # sort population by value of function\n",
    "        self.population.sort_values(by=['y'], ignore_index=True, inplace=True)\n",
    "        \n",
    "        # select survivors based on cutoff proportion\n",
    "        self.population.drop(self.population[self.population.index >= len(self.population)*self.cutoff].index, inplace=True)\n",
    "        \n",
    "        self.population.reset_index(drop=True, inplace=True)\n",
    "        \n",
    "    # populate, select and extract stats through a given number of rounds\n",
    "    def execute(self, n_exec):\n",
    "        best_y = pd.DataFrame(columns=[f\"gen_{i}\" for i in range(self.n_gen+1)])\n",
    "        self.best_solutions = pd.DataFrame(columns=self.population.columns)\n",
    "        \n",
    "        for e in range(n_exec):\n",
    "            # generate initial population and select its best samples\n",
    "            self.population = self.population.iloc[0:0]\n",
    "            self.populate(self.n_samples)\n",
    "            self.select()\n",
    "            \n",
    "            # dict to store best samples by generation\n",
    "            best_in_gen = {}\n",
    "            \n",
    "            for g in range(self.n_gen+1):\n",
    "                # repopulate and select best samples\n",
    "                self.populate(self.n_samples - len(self.population))\n",
    "                self.select()\n",
    "                \n",
    "                # extract best objective function in generation\n",
    "                best_in_gen[f\"gen_{g}\"] = self.population['y'].iloc[0]\n",
    "            \n",
    "            # append best solutions by execution\n",
    "            best_y = best_y.append(best_in_gen, ignore_index=True)\n",
    "            \n",
    "            # extract best sample by execution\n",
    "            self.best_solutions = self.best_solutions.append(self.population.iloc[0], ignore_index=True)\n",
    "        \n",
    "        # extract mean and std dev by generation\n",
    "        self.stats = best_y.describe().loc[['mean','std']].T\n",
    "    \n",
    "    def get_best_solutions(self):\n",
    "        return self.best_solutions\n",
    "    \n",
    "    def plot_convergence(self):\n",
    "        sns.set_style(\"dark\")\n",
    "        plt.figure(figsize=(30,10))\n",
    "        plt.grid()\n",
    "        plt.plot(self.stats.index, self.stats[\"mean\"], label=\"Mean\")\n",
    "        plt.fill_between(range(len(self.stats)), self.stats[\"mean\"]-self.stats[\"std\"], self.stats[\"mean\"]+self.stats[\"std\"], alpha = 0.5, label=\"Std. Dev.\")\n",
    "        plt.plot(self.stats.index, [min(self.stats[\"mean\"]) for i in range(len(self.stats.index))], label=\"Minimum\")\n",
    "        plt.xticks(np.arange(0, self.n_gen+1, self.n_gen/10))\n",
    "        plt.xlabel(\"Generation\")\n",
    "        plt.ylabel(\"Fitness values\")\n",
    "        plt.title(\"Fitness by Generation\")\n",
    "        plt.legend()\n",
    "        plt.savefig(\"case2.png\", dpi=300)\n",
    "        plt.show()"
   ]
  },
  {
   "cell_type": "markdown",
   "id": "58c64c75-401c-445c-9942-2772bfb86d8e",
   "metadata": {},
   "source": [
    "### 2.2 Execução"
   ]
  },
  {
   "cell_type": "code",
   "execution_count": null,
   "id": "eadec531-8657-4913-8e2a-8467788416f6",
   "metadata": {},
   "outputs": [],
   "source": [
    "target = [52.547, 72.154, 53.694, 57.771, 115.88, 105.59, 75.368, 126.02,\n",
    "          52.756, 85.100, 80.525, 111.24, 113.62, 64.95, 89.181, 85.647,\n",
    "          101.71, 106.75, 110.37, 72.082, 104.38, 102.41, 63.009, 59.52,\n",
    "          89.869, 126.78, 77.231, 96.821, 67.905, 110.1]\n",
    "\n",
    "lambda_f = lambda word: (sum([(target[i] - word[i])**2 for i in range(len(target))]))**.5\n",
    "\n",
    "bounds = {\"lb\": min(target), \"ub\": max(target)}\n",
    "\n",
    "rw = RandomWalk(100, target, bounds, lambda_f, .9, 10000)\n",
    "rw.execute(5)"
   ]
  },
  {
   "cell_type": "markdown",
   "id": "155066f8-dc12-452a-9817-4e946247e041",
   "metadata": {},
   "source": [
    "### 2.3 Resultados"
   ]
  },
  {
   "cell_type": "markdown",
   "id": "98122220-6e13-4f56-beec-0fb332a050f4",
   "metadata": {},
   "source": [
    "#### 2.3.1 Tabela"
   ]
  },
  {
   "cell_type": "code",
   "execution_count": null,
   "id": "83ce265e-0368-4246-b9af-ae16aa598d3c",
   "metadata": {},
   "outputs": [],
   "source": [
    "display(rw.get_best_solutions())"
   ]
  },
  {
   "cell_type": "markdown",
   "id": "8610837f-a1fa-4062-9c42-53986ec108ab",
   "metadata": {},
   "source": [
    "#### 2.3.2 Gráfico de Convergência"
   ]
  },
  {
   "cell_type": "code",
   "execution_count": null,
   "id": "bc18d047-1394-4992-a12b-8ec4edd6766d",
   "metadata": {},
   "outputs": [],
   "source": [
    "rw.plot_convergence()"
   ]
  }
 ],
 "metadata": {
  "kernelspec": {
   "display_name": "Python 3",
   "language": "python",
   "name": "python3"
  },
  "language_info": {
   "codemirror_mode": {
    "name": "ipython",
    "version": 3
   },
   "file_extension": ".py",
   "mimetype": "text/x-python",
   "name": "python",
   "nbconvert_exporter": "python",
   "pygments_lexer": "ipython3",
   "version": "3.8.5"
  }
 },
 "nbformat": 4,
 "nbformat_minor": 5
}
