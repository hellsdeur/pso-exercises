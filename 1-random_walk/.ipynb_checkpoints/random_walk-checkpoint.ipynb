{
 "cells": [
  {
   "cell_type": "markdown",
   "id": "45b504c1-047c-4964-a0be-bf47311e1654",
   "metadata": {},
   "source": [
    "# Primeiro Trabalho - Random Walk"
   ]
  },
  {
   "cell_type": "code",
   "execution_count": 3,
   "id": "6f0fcd46-2786-4615-ae90-1f275003188f",
   "metadata": {},
   "outputs": [],
   "source": [
    "import numpy as np\n",
    "import pandas as pd\n",
    "import matplotlib.pyplot as plt\n",
    "import seaborn as sns"
   ]
  },
  {
   "cell_type": "markdown",
   "id": "cc1db3e6-1471-455f-a88d-e9f830b959e3",
   "metadata": {},
   "source": [
    "## 1. Primeiro caso de teste"
   ]
  },
  {
   "cell_type": "markdown",
   "id": "6231b266-ef52-482b-bf13-d3373fe16446",
   "metadata": {},
   "source": [
    "### 1.1 Implementação"
   ]
  },
  {
   "cell_type": "code",
   "execution_count": 68,
   "id": "93341caa-0de8-4b10-bc39-935cc2f2074d",
   "metadata": {},
   "outputs": [],
   "source": [
    "class RandomWalk:\n",
    "    def __init__(self, n_samples, bounds, function, cutoff, n_gen):\n",
    "        self.n_samples = n_samples # number of samples in population\n",
    "        self.bounds = bounds       # dict of bounds for each variable\n",
    "        self.function = function   # objective function\n",
    "        self.cutoff = cutoff       # proportion of surviving samples (0,1)\n",
    "        self.n_gen = n_gen         # number of generations\n",
    "        self.population = pd.DataFrame(columns=[f\"x{i}\" for i in range(len(self.bounds))])\n",
    "        self.stats = pd.DataFrame(columns=[\"mean\", \"std\"])\n",
    "\n",
    "    def populate(self, n_samples):\n",
    "        for s in range(n_samples):\n",
    "            sample = {}\n",
    "            # each sample is identified by xi and contains len(bounds) variables taken from an uniform distribution [0,1)                                        \n",
    "            sample = {f\"x{i}\": np.random.uniform(0,1,len(self.bounds))[i] for i in range(len(self.bounds))}\n",
    "            \n",
    "            # normalize samples to fit the specified bounds\n",
    "            for i in range(len(sample)):\n",
    "                sample[f\"x{i}\"] = self.bounds[i][\"lb\"] + (self.bounds[i][\"ub\"] - self.bounds[i][\"lb\"]) * sample[f\"x{i}\"]\n",
    "            \n",
    "            # append to population and get value of function for each sample\n",
    "            self.population = self.population.append(sample, ignore_index=True)\n",
    "        self.population['y'] = self.function(*[self.population[f'{col}'] for col in self.population.columns if col != 'y'])\n",
    "    \n",
    "    def select(self):\n",
    "        # sort population by value of function\n",
    "        self.population.sort_values(by=['y'], ignore_index=True, inplace=True)\n",
    "        \n",
    "        # select survivors based on cutoff proportion\n",
    "        self.population.drop(self.population[self.population.index >= len(self.population)*self.cutoff].index, inplace=True)\n",
    "        \n",
    "        self.population.reset_index(drop=True, inplace=True)\n",
    "        \n",
    "            \n",
    "    def execute(self, n_exec):\n",
    "        \n",
    "        best_solutions = pd.DataFrame(columns=[f\"gen_{i}\" for i in range(self.n_gen)])\n",
    "        \n",
    "        for e in range(n_exec):\n",
    "            # generate initial population and select its best samples\n",
    "            self.population = self.population.iloc[0:0]\n",
    "            self.populate(self.n_samples)\n",
    "            self.select()\n",
    "            \n",
    "            best_in_gen = {}\n",
    "            \n",
    "            for g in range(self.n_gen):\n",
    "                self.populate(self.n_samples - len(self.population))\n",
    "                self.select()\n",
    "                \n",
    "                best_in_gen[f\"gen_{g}\"] = self.population['y'].iloc[0]\n",
    "            \n",
    "            best_solutions = best_solutions.append(best_in_gen, ignore_index=True)\n",
    "        \n",
    "        self.stats = best_solutions.describe().loc[['mean','std']].T\n",
    "        \n",
    "        display(self.stats)\n",
    "    \n",
    "    def get_best(self):\n",
    "        return self.population.head()\n",
    "    \n",
    "    def plot_convergence(self):\n",
    "        sns.set_style(\"dark\")\n",
    "        plt.figure(figsize=(20,10))\n",
    "        plt.plot(self.stats.index, self.stats[\"mean\"], label=\"Mean\")\n",
    "        plt.fill_between(range(len(self.stats)), self.stats[\"mean\"]-self.stats[\"std\"], self.stats[\"mean\"]+self.stats[\"std\"], alpha = 0.5, label=\"Std. Dev.\")\n",
    "        plt.plot(self.stats.index, [min(self.stats[\"mean\"]) for i in range(len(self.stats.index))], label=\"Minimum\")\n",
    "#         plt.xticks(np.arange(0, len(self.stats)+1, len(self.stats)/10))\n",
    "#         y_max = max(self.stats[\"mean\"]) + max(self.stats[\"std\"])\n",
    "        plt.xticks(np.arange(0, self.n_gen+1, self.n_gen/10))\n",
    "#         plt.yticks(np.arange(0, y_max+1, y_max/20))\n",
    "#         plt.locator_params(axis=\"x\", nbins=20)\n",
    "#         plt.locator_params(axis=\"y\", nbins=20)\n",
    "        plt.xlabel(\"Generation\")\n",
    "        plt.ylabel(\"Fitness values\")\n",
    "        plt.title(\"Fitness by Generation\")\n",
    "        plt.legend()\n",
    "        plt.show()"
   ]
  },
  {
   "cell_type": "markdown",
   "id": "20af1ff8-3034-493a-885b-c7fef30935b0",
   "metadata": {},
   "source": [
    "### 1.2 Execução"
   ]
  },
  {
   "cell_type": "code",
   "execution_count": 69,
   "id": "a1abf98c-8bc6-4f60-a820-ff327b749e54",
   "metadata": {},
   "outputs": [
    {
     "data": {
      "text/html": [
       "<div>\n",
       "<style scoped>\n",
       "    .dataframe tbody tr th:only-of-type {\n",
       "        vertical-align: middle;\n",
       "    }\n",
       "\n",
       "    .dataframe tbody tr th {\n",
       "        vertical-align: top;\n",
       "    }\n",
       "\n",
       "    .dataframe thead th {\n",
       "        text-align: right;\n",
       "    }\n",
       "</style>\n",
       "<table border=\"1\" class=\"dataframe\">\n",
       "  <thead>\n",
       "    <tr style=\"text-align: right;\">\n",
       "      <th></th>\n",
       "      <th>mean</th>\n",
       "      <th>std</th>\n",
       "    </tr>\n",
       "  </thead>\n",
       "  <tbody>\n",
       "    <tr>\n",
       "      <th>gen_0</th>\n",
       "      <td>5.723074</td>\n",
       "      <td>5.183473</td>\n",
       "    </tr>\n",
       "    <tr>\n",
       "      <th>gen_1</th>\n",
       "      <td>5.723074</td>\n",
       "      <td>5.183473</td>\n",
       "    </tr>\n",
       "    <tr>\n",
       "      <th>gen_2</th>\n",
       "      <td>5.723074</td>\n",
       "      <td>5.183473</td>\n",
       "    </tr>\n",
       "    <tr>\n",
       "      <th>gen_3</th>\n",
       "      <td>5.723074</td>\n",
       "      <td>5.183473</td>\n",
       "    </tr>\n",
       "    <tr>\n",
       "      <th>gen_4</th>\n",
       "      <td>5.723074</td>\n",
       "      <td>5.183473</td>\n",
       "    </tr>\n",
       "    <tr>\n",
       "      <th>...</th>\n",
       "      <td>...</td>\n",
       "      <td>...</td>\n",
       "    </tr>\n",
       "    <tr>\n",
       "      <th>gen_995</th>\n",
       "      <td>0.387192</td>\n",
       "      <td>0.201516</td>\n",
       "    </tr>\n",
       "    <tr>\n",
       "      <th>gen_996</th>\n",
       "      <td>0.387192</td>\n",
       "      <td>0.201516</td>\n",
       "    </tr>\n",
       "    <tr>\n",
       "      <th>gen_997</th>\n",
       "      <td>0.387192</td>\n",
       "      <td>0.201516</td>\n",
       "    </tr>\n",
       "    <tr>\n",
       "      <th>gen_998</th>\n",
       "      <td>0.387192</td>\n",
       "      <td>0.201516</td>\n",
       "    </tr>\n",
       "    <tr>\n",
       "      <th>gen_999</th>\n",
       "      <td>0.387192</td>\n",
       "      <td>0.201516</td>\n",
       "    </tr>\n",
       "  </tbody>\n",
       "</table>\n",
       "<p>1000 rows × 2 columns</p>\n",
       "</div>"
      ],
      "text/plain": [
       "             mean       std\n",
       "gen_0    5.723074  5.183473\n",
       "gen_1    5.723074  5.183473\n",
       "gen_2    5.723074  5.183473\n",
       "gen_3    5.723074  5.183473\n",
       "gen_4    5.723074  5.183473\n",
       "...           ...       ...\n",
       "gen_995  0.387192  0.201516\n",
       "gen_996  0.387192  0.201516\n",
       "gen_997  0.387192  0.201516\n",
       "gen_998  0.387192  0.201516\n",
       "gen_999  0.387192  0.201516\n",
       "\n",
       "[1000 rows x 2 columns]"
      ]
     },
     "metadata": {},
     "output_type": "display_data"
    }
   ],
   "source": [
    "bounds = [{\"lb\": -3, \"ub\": 3},\n",
    "          {\"lb\": -2, \"ub\": 4},\n",
    "          {\"lb\": 0, \"ub\": 6}]\n",
    "\n",
    "lambda_f = lambda x0, x1, x2: 10*(x0-1)**2 + 20*(x1-2)**2 + 30*(x2-3)**2\n",
    "\n",
    "targets = [52.547, 72.154, 53.694, 57.771, 115.88, 105.59, 75.368, 126.02,\n",
    "           52.756, 85.100, 80.525, 111.24, 113.62, 64.95, 89.181, 85.647,\n",
    "           101.71, 106.75, 110.37, 72.082, 104.38, 102.41, 63.009, 59.52,\n",
    "           89.869, 126.78, 77.231, 96.821, 67.905, 110.1]\n",
    "\n",
    "rw = RandomWalk(100, bounds, lambda_f, .9, 1000)\n",
    "rw.execute(5)"
   ]
  },
  {
   "cell_type": "markdown",
   "id": "f00e166c-d924-42ee-a8b4-518561311e5b",
   "metadata": {},
   "source": [
    "### 1.3 Resultados"
   ]
  },
  {
   "cell_type": "markdown",
   "id": "f9c73b97-7d4e-45ab-99c3-795e6d042241",
   "metadata": {},
   "source": [
    "#### 1.3.1 Tabela"
   ]
  },
  {
   "cell_type": "code",
   "execution_count": 43,
   "id": "07c88e27-fc02-4e8f-8473-e31358b268bb",
   "metadata": {},
   "outputs": [
    {
     "data": {
      "text/html": [
       "<div>\n",
       "<style scoped>\n",
       "    .dataframe tbody tr th:only-of-type {\n",
       "        vertical-align: middle;\n",
       "    }\n",
       "\n",
       "    .dataframe tbody tr th {\n",
       "        vertical-align: top;\n",
       "    }\n",
       "\n",
       "    .dataframe thead th {\n",
       "        text-align: right;\n",
       "    }\n",
       "</style>\n",
       "<table border=\"1\" class=\"dataframe\">\n",
       "  <thead>\n",
       "    <tr style=\"text-align: right;\">\n",
       "      <th></th>\n",
       "      <th>x0</th>\n",
       "      <th>x1</th>\n",
       "      <th>x2</th>\n",
       "      <th>y</th>\n",
       "    </tr>\n",
       "  </thead>\n",
       "  <tbody>\n",
       "    <tr>\n",
       "      <th>0</th>\n",
       "      <td>1.215696</td>\n",
       "      <td>1.801653</td>\n",
       "      <td>3.050804</td>\n",
       "      <td>1.329511</td>\n",
       "    </tr>\n",
       "    <tr>\n",
       "      <th>1</th>\n",
       "      <td>1.484870</td>\n",
       "      <td>2.047157</td>\n",
       "      <td>2.775677</td>\n",
       "      <td>3.905092</td>\n",
       "    </tr>\n",
       "    <tr>\n",
       "      <th>2</th>\n",
       "      <td>1.554950</td>\n",
       "      <td>1.802348</td>\n",
       "      <td>3.243373</td>\n",
       "      <td>5.637941</td>\n",
       "    </tr>\n",
       "    <tr>\n",
       "      <th>3</th>\n",
       "      <td>1.545213</td>\n",
       "      <td>2.016086</td>\n",
       "      <td>3.394636</td>\n",
       "      <td>7.649869</td>\n",
       "    </tr>\n",
       "    <tr>\n",
       "      <th>4</th>\n",
       "      <td>1.328729</td>\n",
       "      <td>2.723262</td>\n",
       "      <td>2.809591</td>\n",
       "      <td>12.630448</td>\n",
       "    </tr>\n",
       "  </tbody>\n",
       "</table>\n",
       "</div>"
      ],
      "text/plain": [
       "         x0        x1        x2          y\n",
       "0  1.215696  1.801653  3.050804   1.329511\n",
       "1  1.484870  2.047157  2.775677   3.905092\n",
       "2  1.554950  1.802348  3.243373   5.637941\n",
       "3  1.545213  2.016086  3.394636   7.649869\n",
       "4  1.328729  2.723262  2.809591  12.630448"
      ]
     },
     "execution_count": 43,
     "metadata": {},
     "output_type": "execute_result"
    }
   ],
   "source": [
    "rw.get_best()"
   ]
  },
  {
   "cell_type": "markdown",
   "id": "6550a231-ae11-43a6-bf09-8b6e5e44bb82",
   "metadata": {},
   "source": [
    "#### 1.3.2 Gráfico de Convergência"
   ]
  },
  {
   "cell_type": "code",
   "execution_count": 70,
   "id": "ddcb07e6-84d2-4545-9a5d-c6e0f0d77dcd",
   "metadata": {},
   "outputs": [
    {
     "data": {
      "image/png": "[encoded data removed]",
      "text/plain": [
       "<Figure size 1440x720 with 1 Axes>"
      ]
     },
     "metadata": {},
     "output_type": "display_data"
    }
   ],
   "source": [
    "rw.plot_convergence()"
   ]
  }
 ],
 "metadata": {
  "kernelspec": {
   "display_name": "Python 3",
   "language": "python",
   "name": "python3"
  },
  "language_info": {
   "codemirror_mode": {
    "name": "ipython",
    "version": 3
   },
   "file_extension": ".py",
   "mimetype": "text/x-python",
   "name": "python",
   "nbconvert_exporter": "python",
   "pygments_lexer": "ipython3",
   "version": "3.8.5"
  }
 },
 "nbformat": 4,
 "nbformat_minor": 5
}
