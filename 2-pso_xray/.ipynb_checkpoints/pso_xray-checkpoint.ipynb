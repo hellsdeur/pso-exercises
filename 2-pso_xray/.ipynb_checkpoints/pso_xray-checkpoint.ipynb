{
 "cells": [
  {
   "cell_type": "markdown",
   "id": "5d56847e-029f-4ad0-927b-280b9b74f90b",
   "metadata": {},
   "source": [
    "# Segundo Trabalho - PSO (Ritika)"
   ]
  },
  {
   "cell_type": "markdown",
   "id": "938848e4-1554-49fa-a838-bddca6e1ac39",
   "metadata": {},
   "source": [
    "## 0. Introdução"
   ]
  },
  {
   "cell_type": "markdown",
   "id": "6bbac668-a34c-47ce-9603-194f1a8e744d",
   "metadata": {},
   "source": [
    "### 0.1. Algoritmo da Otimização por Enxame de Partículas (PSO)"
   ]
  },
  {
   "cell_type": "markdown",
   "id": "65c840b2-05ed-41ed-8679-72b0b0aaf20e",
   "metadata": {},
   "source": [
    "## 2. Implementação"
   ]
  },
  {
   "cell_type": "markdown",
   "id": "0d241fb9-dcf0-40d1-81ac-7c460c83ea8b",
   "metadata": {},
   "source": [
    "### 2.1 Bibliotecas utilizadas"
   ]
  },
  {
   "cell_type": "code",
   "execution_count": 1,
   "id": "5e64b42b-82bf-40dc-aa3e-2beadefd2cb8",
   "metadata": {},
   "outputs": [],
   "source": [
    "import sys\n",
    "from random import random\n",
    "from random import seed\n",
    "import pandas as pd"
   ]
  },
  {
   "cell_type": "markdown",
   "id": "e08775ab-7621-4b6e-a539-0e691d19544d",
   "metadata": {},
   "source": [
    "### 2.2 Classe Partícula"
   ]
  },
  {
   "cell_type": "code",
   "execution_count": 2,
   "id": "8b5b8d83-f454-485b-9955-a20db8629399",
   "metadata": {},
   "outputs": [],
   "source": [
    "class Particle:\n",
    "    def __init__(self, n, f, w):\n",
    "        # upper and lower bounds\n",
    "        ub = [0, 0, 0]\n",
    "        lb = [10, 10, 10]\n",
    "        \n",
    "        self.n = n                       # number of variables\n",
    "        self.x = [round(lb[j] + random() * (ub[j]-lb[j])) for j in range(n)] # current position\n",
    "        self.pbest = self.x              # best position\n",
    "        self.f = f                       # objective funct\n",
    "        self.w = w                       # inertia weight\n",
    "        self.y = self.f(*self.x)         # fitness value\n",
    "        self.v = [x*0.1 for x in self.x] # velocity\n",
    "        \n",
    "    def calculate_x(self, v):\n",
    "        new_x = []\n",
    "        for i in range(len(self.x)):\n",
    "            new_x.append(self.x[i] + v[i])\n",
    "        self.x = new_x\n",
    "        self.y = self.f(*self.x)\n",
    "    \n",
    "    def calculate_v(self, w, c, gbest):\n",
    "        new_v = []\n",
    "        for i in range(len(self.v)):\n",
    "            new_v.append(w[\"max\"]*self.v[i] + c[0]*random()*(self.pbest[i]-self.x[i]) + c[1]*random()*(gbest.x[i]-self.x[i]))\n",
    "        self.v = new_v"
   ]
  },
  {
   "cell_type": "markdown",
   "id": "e1c5a5e5-e989-4450-8cac-af923e8d18b3",
   "metadata": {},
   "source": [
    "### 2.3 Classe PSO"
   ]
  },
  {
   "cell_type": "code",
   "execution_count": 3,
   "id": "1f59bf73-3a8f-4c4a-8acb-af4cc1a676ae",
   "metadata": {},
   "outputs": [],
   "source": [
    "class PSO:\n",
    "    def __init__(self, funct, n_var, n_pop, wmax, wmin, c, maxis):\n",
    "        self.funct = funct # objective funct\n",
    "        self.n_var = n_var # number of variables\n",
    "        self.n_pop = n_pop # population size\n",
    "        self.w     = {     # inertia weight\n",
    "            \"max\": wmax,\n",
    "            \"min\": wmin\n",
    "        }\n",
    "        self.c     = c     # acceleration factor\n",
    "        self.maxis = maxis # maximum iteration size\n",
    "        self.popul = []    # population\n",
    "        self.gbest = None  # global best particle\n",
    "        \n",
    "    def initialize(self):\n",
    "        self.popul = [Particle(self.n_var, self.funct, self.w) for _ in range(self.n_pop)]\n",
    "        min_y = min([particle.y for particle in self.popul])\n",
    "        for particle in self.popul:\n",
    "            if particle.y == min_y:\n",
    "                self.gbest = particle\n",
    "                \n",
    "    def evaluate_pbest(self, particle):\n",
    "        if self.funct(*particle.x) < self.funct(*particle.pbest):\n",
    "            particle.pbest = particle.x\n",
    "    \n",
    "    def evaluate_gbest(self):\n",
    "        # calculate fitness for each particle\n",
    "        # choose particle with best fitness value as gbest\n",
    "        for particle in self.popul:\n",
    "            if particle.y < self.gbest.y:\n",
    "                self.gbest = particle\n",
    "                \n",
    "    def first_movement(self):\n",
    "        # calculate velocity and position for each particle\n",
    "        for particle in self.popul:\n",
    "            particle.calculate_x(particle.v)\n",
    "            # select pbest for current particle\n",
    "            self.evaluate_pbest(particle)\n",
    "        self.evaluate_gbest()\n",
    "\n",
    "    def update(self):\n",
    "        # calculate velocity and position for each particle\n",
    "        for particle in self.popul:\n",
    "            particle.calculate_v(self.w, self.c, self.gbest)\n",
    "            particle.calculate_x(particle.v)\n",
    "            # select pbest for current particle\n",
    "            self.evaluate_pbest(particle)\n",
    "        self.evaluate_gbest()\n",
    "    \n",
    "    def run(self):\n",
    "        for i in range(self.maxis-1):\n",
    "            self.update()\n",
    "    \n",
    "    def display_population(self):\n",
    "        dict_popul = dict((x,[]) for x in [f\"x{i}\" for i in range(self.n_var)])\n",
    "        dict_popul[\"y\"] = []\n",
    "        for particle in self.popul:\n",
    "            for i in range(self.n_var):\n",
    "                dict_popul[f\"x{i}\"].append(particle.x[i])\n",
    "            dict_popul[\"y\"].append(particle.y)\n",
    "        return pd.DataFrame(dict_popul)\n",
    "    \n",
    "    def display_gbest(self):\n",
    "        dict_gbest = dict((x,[]) for x in [f\"x{i}\" for i in range(self.n_var)])\n",
    "        for i in range(self.n_var):\n",
    "            dict_gbest[f\"x{i}\"].append(self.gbest.x[i])\n",
    "        dict_gbest[\"y\"] = self.gbest.y\n",
    "        return pd.DataFrame(dict_gbest)"
   ]
  },
  {
   "cell_type": "markdown",
   "id": "f049be15-44d9-46d9-a54c-b003b671d8ce",
   "metadata": {},
   "source": [
    "## 3. Execução"
   ]
  },
  {
   "cell_type": "markdown",
   "id": "ca5b26f1-d1d9-4c5e-acd0-2e9816f01ae5",
   "metadata": {},
   "source": [
    "### 3.1 Inicialização"
   ]
  },
  {
   "cell_type": "code",
   "execution_count": 4,
   "id": "79bc0c2c-f7a0-4bb0-bb67-838e11885f83",
   "metadata": {},
   "outputs": [
    {
     "data": {
      "text/html": [
       "<div>\n",
       "<style scoped>\n",
       "    .dataframe tbody tr th:only-of-type {\n",
       "        vertical-align: middle;\n",
       "    }\n",
       "\n",
       "    .dataframe tbody tr th {\n",
       "        vertical-align: top;\n",
       "    }\n",
       "\n",
       "    .dataframe thead th {\n",
       "        text-align: right;\n",
       "    }\n",
       "</style>\n",
       "<table border=\"1\" class=\"dataframe\">\n",
       "  <thead>\n",
       "    <tr style=\"text-align: right;\">\n",
       "      <th></th>\n",
       "      <th>x0</th>\n",
       "      <th>x1</th>\n",
       "      <th>x2</th>\n",
       "      <th>y</th>\n",
       "    </tr>\n",
       "  </thead>\n",
       "  <tbody>\n",
       "    <tr>\n",
       "      <th>0</th>\n",
       "      <td>5</td>\n",
       "      <td>8</td>\n",
       "      <td>8</td>\n",
       "      <td>1630</td>\n",
       "    </tr>\n",
       "    <tr>\n",
       "      <th>1</th>\n",
       "      <td>5</td>\n",
       "      <td>5</td>\n",
       "      <td>3</td>\n",
       "      <td>340</td>\n",
       "    </tr>\n",
       "    <tr>\n",
       "      <th>2</th>\n",
       "      <td>7</td>\n",
       "      <td>2</td>\n",
       "      <td>8</td>\n",
       "      <td>1110</td>\n",
       "    </tr>\n",
       "    <tr>\n",
       "      <th>3</th>\n",
       "      <td>3</td>\n",
       "      <td>1</td>\n",
       "      <td>6</td>\n",
       "      <td>330</td>\n",
       "    </tr>\n",
       "    <tr>\n",
       "      <th>4</th>\n",
       "      <td>2</td>\n",
       "      <td>2</td>\n",
       "      <td>2</td>\n",
       "      <td>40</td>\n",
       "    </tr>\n",
       "  </tbody>\n",
       "</table>\n",
       "</div>"
      ],
      "text/plain": [
       "   x0  x1  x2     y\n",
       "0   5   8   8  1630\n",
       "1   5   5   3   340\n",
       "2   7   2   8  1110\n",
       "3   3   1   6   330\n",
       "4   2   2   2    40"
      ]
     },
     "execution_count": 4,
     "metadata": {},
     "output_type": "execute_result"
    }
   ],
   "source": [
    "# objective funct for this problem\n",
    "f = lambda x0, x1, x2: 10*(x0-1)**2 + 20*(x1-2)**2 + 30*(x2-3)**2\n",
    "\n",
    "# instantiate a PSO object\n",
    "p = PSO(f, 3, 5, .9, .4, [2,2], 50)\n",
    "p.initialize()\n",
    "p.display_population()"
   ]
  },
  {
   "cell_type": "code",
   "execution_count": 5,
   "id": "11b2d5f1-22f5-4986-8510-e055ea9114f9",
   "metadata": {},
   "outputs": [
    {
     "data": {
      "text/html": [
       "<div>\n",
       "<style scoped>\n",
       "    .dataframe tbody tr th:only-of-type {\n",
       "        vertical-align: middle;\n",
       "    }\n",
       "\n",
       "    .dataframe tbody tr th {\n",
       "        vertical-align: top;\n",
       "    }\n",
       "\n",
       "    .dataframe thead th {\n",
       "        text-align: right;\n",
       "    }\n",
       "</style>\n",
       "<table border=\"1\" class=\"dataframe\">\n",
       "  <thead>\n",
       "    <tr style=\"text-align: right;\">\n",
       "      <th></th>\n",
       "      <th>x0</th>\n",
       "      <th>x1</th>\n",
       "      <th>x2</th>\n",
       "      <th>y</th>\n",
       "    </tr>\n",
       "  </thead>\n",
       "  <tbody>\n",
       "    <tr>\n",
       "      <th>0</th>\n",
       "      <td>5.5</td>\n",
       "      <td>8.8</td>\n",
       "      <td>8.8</td>\n",
       "      <td>2136.5</td>\n",
       "    </tr>\n",
       "    <tr>\n",
       "      <th>1</th>\n",
       "      <td>5.5</td>\n",
       "      <td>5.5</td>\n",
       "      <td>3.3</td>\n",
       "      <td>450.2</td>\n",
       "    </tr>\n",
       "    <tr>\n",
       "      <th>2</th>\n",
       "      <td>7.7</td>\n",
       "      <td>2.2</td>\n",
       "      <td>8.8</td>\n",
       "      <td>1458.9</td>\n",
       "    </tr>\n",
       "    <tr>\n",
       "      <th>3</th>\n",
       "      <td>3.3</td>\n",
       "      <td>1.1</td>\n",
       "      <td>6.6</td>\n",
       "      <td>457.9</td>\n",
       "    </tr>\n",
       "    <tr>\n",
       "      <th>4</th>\n",
       "      <td>2.2</td>\n",
       "      <td>2.2</td>\n",
       "      <td>2.2</td>\n",
       "      <td>34.4</td>\n",
       "    </tr>\n",
       "  </tbody>\n",
       "</table>\n",
       "</div>"
      ],
      "text/plain": [
       "    x0   x1   x2       y\n",
       "0  5.5  8.8  8.8  2136.5\n",
       "1  5.5  5.5  3.3   450.2\n",
       "2  7.7  2.2  8.8  1458.9\n",
       "3  3.3  1.1  6.6   457.9\n",
       "4  2.2  2.2  2.2    34.4"
      ]
     },
     "execution_count": 5,
     "metadata": {},
     "output_type": "execute_result"
    }
   ],
   "source": [
    "# moving particles for the first time\n",
    "\n",
    "p.first_movement()\n",
    "p.display_population()"
   ]
  },
  {
   "cell_type": "code",
   "execution_count": 6,
   "id": "c127c9a1-f654-4133-b9e9-2196458a8b7e",
   "metadata": {},
   "outputs": [
    {
     "data": {
      "text/html": [
       "<div>\n",
       "<style scoped>\n",
       "    .dataframe tbody tr th:only-of-type {\n",
       "        vertical-align: middle;\n",
       "    }\n",
       "\n",
       "    .dataframe tbody tr th {\n",
       "        vertical-align: top;\n",
       "    }\n",
       "\n",
       "    .dataframe thead th {\n",
       "        text-align: right;\n",
       "    }\n",
       "</style>\n",
       "<table border=\"1\" class=\"dataframe\">\n",
       "  <thead>\n",
       "    <tr style=\"text-align: right;\">\n",
       "      <th></th>\n",
       "      <th>x0</th>\n",
       "      <th>x1</th>\n",
       "      <th>x2</th>\n",
       "      <th>y</th>\n",
       "    </tr>\n",
       "  </thead>\n",
       "  <tbody>\n",
       "    <tr>\n",
       "      <th>0</th>\n",
       "      <td>2.2</td>\n",
       "      <td>2.2</td>\n",
       "      <td>2.2</td>\n",
       "      <td>34.4</td>\n",
       "    </tr>\n",
       "  </tbody>\n",
       "</table>\n",
       "</div>"
      ],
      "text/plain": [
       "    x0   x1   x2     y\n",
       "0  2.2  2.2  2.2  34.4"
      ]
     },
     "execution_count": 6,
     "metadata": {},
     "output_type": "execute_result"
    }
   ],
   "source": [
    "# gbest so far\n",
    "\n",
    "p.display_gbest()"
   ]
  },
  {
   "cell_type": "markdown",
   "id": "579015c1-62e4-4b83-8138-3bd7f7ba4f3d",
   "metadata": {},
   "source": [
    "### 3.3 Cálculo da velocidade e posição"
   ]
  },
  {
   "cell_type": "code",
   "execution_count": 7,
   "id": "34dd89d0-16a5-4f60-a1cc-01975b06aee0",
   "metadata": {},
   "outputs": [
    {
     "data": {
      "text/html": [
       "<div>\n",
       "<style scoped>\n",
       "    .dataframe tbody tr th:only-of-type {\n",
       "        vertical-align: middle;\n",
       "    }\n",
       "\n",
       "    .dataframe tbody tr th {\n",
       "        vertical-align: top;\n",
       "    }\n",
       "\n",
       "    .dataframe thead th {\n",
       "        text-align: right;\n",
       "    }\n",
       "</style>\n",
       "<table border=\"1\" class=\"dataframe\">\n",
       "  <thead>\n",
       "    <tr style=\"text-align: right;\">\n",
       "      <th></th>\n",
       "      <th>x0</th>\n",
       "      <th>x1</th>\n",
       "      <th>x2</th>\n",
       "      <th>y</th>\n",
       "    </tr>\n",
       "  </thead>\n",
       "  <tbody>\n",
       "    <tr>\n",
       "      <th>0</th>\n",
       "      <td>2.616010</td>\n",
       "      <td>0.255946</td>\n",
       "      <td>1.406585</td>\n",
       "      <td>163.118525</td>\n",
       "    </tr>\n",
       "    <tr>\n",
       "      <th>1</th>\n",
       "      <td>5.116070</td>\n",
       "      <td>1.479158</td>\n",
       "      <td>1.717721</td>\n",
       "      <td>224.172961</td>\n",
       "    </tr>\n",
       "    <tr>\n",
       "      <th>2</th>\n",
       "      <td>7.738502</td>\n",
       "      <td>2.235102</td>\n",
       "      <td>-0.584568</td>\n",
       "      <td>840.653448</td>\n",
       "    </tr>\n",
       "    <tr>\n",
       "      <th>3</th>\n",
       "      <td>3.049874</td>\n",
       "      <td>1.893709</td>\n",
       "      <td>2.632516</td>\n",
       "      <td>46.297130</td>\n",
       "    </tr>\n",
       "    <tr>\n",
       "      <th>4</th>\n",
       "      <td>2.380000</td>\n",
       "      <td>2.380000</td>\n",
       "      <td>2.380000</td>\n",
       "      <td>33.464000</td>\n",
       "    </tr>\n",
       "  </tbody>\n",
       "</table>\n",
       "</div>"
      ],
      "text/plain": [
       "         x0        x1        x2           y\n",
       "0  2.616010  0.255946  1.406585  163.118525\n",
       "1  5.116070  1.479158  1.717721  224.172961\n",
       "2  7.738502  2.235102 -0.584568  840.653448\n",
       "3  3.049874  1.893709  2.632516   46.297130\n",
       "4  2.380000  2.380000  2.380000   33.464000"
      ]
     },
     "execution_count": 7,
     "metadata": {},
     "output_type": "execute_result"
    }
   ],
   "source": [
    "# updating velocity and position for each particle\n",
    "\n",
    "p.update()\n",
    "p.display_population()"
   ]
  },
  {
   "cell_type": "code",
   "execution_count": 8,
   "id": "f17fcefd-6c97-48d0-a578-ae313cb7e3c5",
   "metadata": {},
   "outputs": [
    {
     "data": {
      "text/html": [
       "<div>\n",
       "<style scoped>\n",
       "    .dataframe tbody tr th:only-of-type {\n",
       "        vertical-align: middle;\n",
       "    }\n",
       "\n",
       "    .dataframe tbody tr th {\n",
       "        vertical-align: top;\n",
       "    }\n",
       "\n",
       "    .dataframe thead th {\n",
       "        text-align: right;\n",
       "    }\n",
       "</style>\n",
       "<table border=\"1\" class=\"dataframe\">\n",
       "  <thead>\n",
       "    <tr style=\"text-align: right;\">\n",
       "      <th></th>\n",
       "      <th>x0</th>\n",
       "      <th>x1</th>\n",
       "      <th>x2</th>\n",
       "      <th>y</th>\n",
       "    </tr>\n",
       "  </thead>\n",
       "  <tbody>\n",
       "    <tr>\n",
       "      <th>0</th>\n",
       "      <td>2.38</td>\n",
       "      <td>2.38</td>\n",
       "      <td>2.38</td>\n",
       "      <td>33.464</td>\n",
       "    </tr>\n",
       "  </tbody>\n",
       "</table>\n",
       "</div>"
      ],
      "text/plain": [
       "     x0    x1    x2       y\n",
       "0  2.38  2.38  2.38  33.464"
      ]
     },
     "execution_count": 8,
     "metadata": {},
     "output_type": "execute_result"
    }
   ],
   "source": [
    "p.display_gbest()"
   ]
  },
  {
   "cell_type": "markdown",
   "id": "8970425c-9390-44cd-a774-329516965fff",
   "metadata": {},
   "source": [
    "### 3.4 Iterações Restantes"
   ]
  },
  {
   "cell_type": "code",
   "execution_count": 9,
   "id": "653846c7-376f-4221-adc2-15e6c19d1b9d",
   "metadata": {},
   "outputs": [
    {
     "data": {
      "text/html": [
       "<div>\n",
       "<style scoped>\n",
       "    .dataframe tbody tr th:only-of-type {\n",
       "        vertical-align: middle;\n",
       "    }\n",
       "\n",
       "    .dataframe tbody tr th {\n",
       "        vertical-align: top;\n",
       "    }\n",
       "\n",
       "    .dataframe thead th {\n",
       "        text-align: right;\n",
       "    }\n",
       "</style>\n",
       "<table border=\"1\" class=\"dataframe\">\n",
       "  <thead>\n",
       "    <tr style=\"text-align: right;\">\n",
       "      <th></th>\n",
       "      <th>x0</th>\n",
       "      <th>x1</th>\n",
       "      <th>x2</th>\n",
       "      <th>y</th>\n",
       "    </tr>\n",
       "  </thead>\n",
       "  <tbody>\n",
       "    <tr>\n",
       "      <th>0</th>\n",
       "      <td>-12.291720</td>\n",
       "      <td>11.390103</td>\n",
       "      <td>1.618573</td>\n",
       "      <td>3587.429182</td>\n",
       "    </tr>\n",
       "    <tr>\n",
       "      <th>1</th>\n",
       "      <td>3.825853</td>\n",
       "      <td>-10.263350</td>\n",
       "      <td>-6.460885</td>\n",
       "      <td>5772.900000</td>\n",
       "    </tr>\n",
       "    <tr>\n",
       "      <th>2</th>\n",
       "      <td>56.716554</td>\n",
       "      <td>7.644861</td>\n",
       "      <td>-31.714446</td>\n",
       "      <td>67833.416829</td>\n",
       "    </tr>\n",
       "    <tr>\n",
       "      <th>3</th>\n",
       "      <td>-2.619048</td>\n",
       "      <td>2.921516</td>\n",
       "      <td>1.231086</td>\n",
       "      <td>241.830638</td>\n",
       "    </tr>\n",
       "    <tr>\n",
       "      <th>4</th>\n",
       "      <td>1.123117</td>\n",
       "      <td>2.113621</td>\n",
       "      <td>3.097237</td>\n",
       "      <td>0.693424</td>\n",
       "    </tr>\n",
       "  </tbody>\n",
       "</table>\n",
       "</div>"
      ],
      "text/plain": [
       "          x0         x1         x2             y\n",
       "0 -12.291720  11.390103   1.618573   3587.429182\n",
       "1   3.825853 -10.263350  -6.460885   5772.900000\n",
       "2  56.716554   7.644861 -31.714446  67833.416829\n",
       "3  -2.619048   2.921516   1.231086    241.830638\n",
       "4   1.123117   2.113621   3.097237      0.693424"
      ]
     },
     "execution_count": 9,
     "metadata": {},
     "output_type": "execute_result"
    }
   ],
   "source": [
    "p.run()\n",
    "p.display_population()"
   ]
  },
  {
   "cell_type": "code",
   "execution_count": 10,
   "id": "1a21cf87-fc36-4c80-bd66-b43518a74762",
   "metadata": {},
   "outputs": [
    {
     "data": {
      "text/html": [
       "<div>\n",
       "<style scoped>\n",
       "    .dataframe tbody tr th:only-of-type {\n",
       "        vertical-align: middle;\n",
       "    }\n",
       "\n",
       "    .dataframe tbody tr th {\n",
       "        vertical-align: top;\n",
       "    }\n",
       "\n",
       "    .dataframe thead th {\n",
       "        text-align: right;\n",
       "    }\n",
       "</style>\n",
       "<table border=\"1\" class=\"dataframe\">\n",
       "  <thead>\n",
       "    <tr style=\"text-align: right;\">\n",
       "      <th></th>\n",
       "      <th>x0</th>\n",
       "      <th>x1</th>\n",
       "      <th>x2</th>\n",
       "      <th>y</th>\n",
       "    </tr>\n",
       "  </thead>\n",
       "  <tbody>\n",
       "    <tr>\n",
       "      <th>0</th>\n",
       "      <td>1.123117</td>\n",
       "      <td>2.113621</td>\n",
       "      <td>3.097237</td>\n",
       "      <td>0.693424</td>\n",
       "    </tr>\n",
       "  </tbody>\n",
       "</table>\n",
       "</div>"
      ],
      "text/plain": [
       "         x0        x1        x2         y\n",
       "0  1.123117  2.113621  3.097237  0.693424"
      ]
     },
     "execution_count": 10,
     "metadata": {},
     "output_type": "execute_result"
    }
   ],
   "source": [
    "p.display_gbest()"
   ]
  }
 ],
 "metadata": {
  "kernelspec": {
   "display_name": "Python 3",
   "language": "python",
   "name": "python3"
  },
  "language_info": {
   "codemirror_mode": {
    "name": "ipython",
    "version": 3
   },
   "file_extension": ".py",
   "mimetype": "text/x-python",
   "name": "python",
   "nbconvert_exporter": "python",
   "pygments_lexer": "ipython3",
   "version": "3.8.5"
  }
 },
 "nbformat": 4,
 "nbformat_minor": 5
}
