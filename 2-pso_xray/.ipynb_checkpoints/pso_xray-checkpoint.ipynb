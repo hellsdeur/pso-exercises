{
 "cells": [
  {
   "cell_type": "markdown",
   "id": "5d56847e-029f-4ad0-927b-280b9b74f90b",
   "metadata": {},
   "source": [
    "# Segundo Trabalho - PSO (Ritika)"
   ]
  },
  {
   "cell_type": "markdown",
   "id": "bb79e625-e881-4b7e-9c2f-4dcccc92d2b1",
   "metadata": {},
   "source": [
    "- [1. Implementação](#1.-Implementação)\n",
    "    - [1.1. Bibliotecas utilizadas](#1.1.-Bibliotecas-utilizadas)\n",
    "    - [1.2. Classe Partícula](#1.2.-Classe-Partícula)\n",
    "    - [1.3. Classe PSO](#1.3.-Classe-PSO)\n",
    "- [2. Execução](#2.-Execução)\n",
    "    - [2.1. Inicialização](#2.1.-Inicialização)\n",
    "    - [2.2. Cálculo da velocidade e posição](#2.2.-Cálculo-da-velocidade-e-posição)\n",
    "    - [2.3. Iterações Restantes](#2.3.-Iterações-Restantes)"
   ]
  },
  {
   "cell_type": "code",
   "execution_count": 14,
   "id": "2e03beee-0863-48f2-bd97-393d65dbcbee",
   "metadata": {},
   "outputs": [
    {
     "data": {
      "text/html": [
       "\n",
       "        <iframe\n",
       "            width=\"851\"\n",
       "            height=\"480\"\n",
       "            src=\"https://www.youtube.com/embed/HmDjfL3R39M\"\n",
       "            frameborder=\"0\"\n",
       "            allowfullscreen\n",
       "        ></iframe>\n",
       "        "
      ],
      "text/plain": [
       "<IPython.lib.display.IFrame at 0x7fd5e25c5e20>"
      ]
     },
     "execution_count": 14,
     "metadata": {},
     "output_type": "execute_result"
    }
   ],
   "source": [
    "from IPython.display import IFrame\n",
    "\n",
    "IFrame(\"https://www.youtube.com/embed/HmDjfL3R39M\", width=851, height=480)"
   ]
  },
  {
   "cell_type": "markdown",
   "id": "65c840b2-05ed-41ed-8679-72b0b0aaf20e",
   "metadata": {},
   "source": [
    "## 1. Implementação"
   ]
  },
  {
   "cell_type": "markdown",
   "id": "0d241fb9-dcf0-40d1-81ac-7c460c83ea8b",
   "metadata": {},
   "source": [
    "### 1.1. Bibliotecas utilizadas"
   ]
  },
  {
   "cell_type": "code",
   "execution_count": 1,
   "id": "5e64b42b-82bf-40dc-aa3e-2beadefd2cb8",
   "metadata": {},
   "outputs": [],
   "source": [
    "import sys\n",
    "from random import random\n",
    "from random import seed\n",
    "import pandas as pd\n",
    "import copy"
   ]
  },
  {
   "cell_type": "markdown",
   "id": "e08775ab-7621-4b6e-a539-0e691d19544d",
   "metadata": {},
   "source": [
    "### 1.2. Classe Partícula"
   ]
  },
  {
   "cell_type": "code",
   "execution_count": 2,
   "id": "8b5b8d83-f454-485b-9955-a20db8629399",
   "metadata": {},
   "outputs": [],
   "source": [
    "class Particle:\n",
    "    def __init__(self, n, f, w):\n",
    "        # upper and lower bounds\n",
    "        ub = [0, 0, 0]\n",
    "        lb = [10, 10, 10]\n",
    "        \n",
    "        self.n = n                         # number of variables\n",
    "        self.x = [round(lb[j] + random() * (ub[j]-lb[j])) for j in range(n)] # current position\n",
    "        self.pbest = copy.deepcopy(self.x) # best position\n",
    "        self.f = f                         # objective funct\n",
    "        self.w = w                         # inertia weight\n",
    "        self.y = self.f(*self.x)           # fitness value\n",
    "        self.v = [x*0.1 for x in self.x]   # velocity\n",
    "        \n",
    "    def calculate_x(self, v):\n",
    "        new_x = []\n",
    "        for i in range(len(self.x)):\n",
    "            new_x.append(self.x[i] + v[i])\n",
    "        self.x = new_x\n",
    "        self.y = self.f(*self.x)\n",
    "    \n",
    "    def calculate_v(self, w, c, gbest):\n",
    "        new_v = []\n",
    "        for i in range(len(self.v)):\n",
    "            new_v.append(w[\"max\"]*self.v[i] + c[0]*random()*(self.pbest[i]-self.x[i]) + c[1]*random()*(gbest.x[i]-self.x[i]))\n",
    "        self.v = new_v"
   ]
  },
  {
   "cell_type": "markdown",
   "id": "e1c5a5e5-e989-4450-8cac-af923e8d18b3",
   "metadata": {},
   "source": [
    "### 1.3. Classe PSO"
   ]
  },
  {
   "cell_type": "code",
   "execution_count": 3,
   "id": "1f59bf73-3a8f-4c4a-8acb-af4cc1a676ae",
   "metadata": {},
   "outputs": [],
   "source": [
    "class PSO:\n",
    "    def __init__(self, funct, n_var, n_pop, wmax, wmin, c, maxis):\n",
    "        self.funct = funct # objective funct\n",
    "        self.n_var = n_var # number of variables\n",
    "        self.n_pop = n_pop # population size\n",
    "        self.w     = {     # inertia weight\n",
    "            \"max\": wmax,\n",
    "            \"min\": wmin\n",
    "        }\n",
    "        self.c     = c     # acceleration factor\n",
    "        self.maxis = maxis # maximum iteration size\n",
    "        self.popul = []    # population\n",
    "        self.gbest = None  # global best particle\n",
    "        \n",
    "    def initialize(self):\n",
    "        self.popul = [Particle(self.n_var, self.funct, self.w) for _ in range(self.n_pop)]\n",
    "        min_y = min([particle.y for particle in self.popul])\n",
    "        for particle in self.popul:\n",
    "            if particle.y == min_y:\n",
    "                self.gbest = particle\n",
    "                \n",
    "    def evaluate_pbest(self, particle):\n",
    "        if self.funct(*particle.x) < self.funct(*particle.pbest):\n",
    "            particle.pbest = copy.deepcopy(particle.x)\n",
    "    \n",
    "    def evaluate_gbest(self):\n",
    "        # calculate fitness for each particle\n",
    "        # choose particle with best fitness value as gbest\n",
    "        for particle in self.popul:\n",
    "            if particle.y < self.gbest.y:\n",
    "                self.gbest = copy.deepcopy(particle)\n",
    "                \n",
    "    def first_movement(self):\n",
    "        # calculate velocity and position for each particle\n",
    "        for particle in self.popul:\n",
    "            particle.calculate_x(particle.v)\n",
    "            # select pbest for current particle\n",
    "            self.evaluate_pbest(particle)\n",
    "        self.evaluate_gbest()\n",
    "\n",
    "    def update(self):\n",
    "        # calculate velocity and position for each particle\n",
    "        for particle in self.popul:\n",
    "            particle.calculate_v(self.w, self.c, self.gbest)\n",
    "            particle.calculate_x(particle.v)\n",
    "            # select pbest for current particle\n",
    "            self.evaluate_pbest(particle)\n",
    "        self.evaluate_gbest()\n",
    "    \n",
    "    def run(self):\n",
    "        for i in range(self.maxis-1):\n",
    "            self.update()\n",
    "    \n",
    "    def display_population(self):\n",
    "        dict_popul = dict((x,[]) for x in [f\"x{i}\" for i in range(self.n_var)])\n",
    "        dict_popul[\"y\"] = []\n",
    "        for particle in self.popul:\n",
    "            for i in range(self.n_var):\n",
    "                dict_popul[f\"x{i}\"].append(particle.x[i])\n",
    "            dict_popul[\"y\"].append(particle.y)\n",
    "        return pd.DataFrame(dict_popul)\n",
    "    \n",
    "    def display_gbest(self):\n",
    "        dict_gbest = dict((x,[]) for x in [f\"x{i}\" for i in range(self.n_var)])\n",
    "        for i in range(self.n_var):\n",
    "            dict_gbest[f\"x{i}\"].append(self.gbest.x[i])\n",
    "        dict_gbest[\"y\"] = self.gbest.y\n",
    "        return pd.DataFrame(dict_gbest)"
   ]
  },
  {
   "cell_type": "markdown",
   "id": "f049be15-44d9-46d9-a54c-b003b671d8ce",
   "metadata": {},
   "source": [
    "## 2. Execução"
   ]
  },
  {
   "cell_type": "markdown",
   "id": "ca5b26f1-d1d9-4c5e-acd0-2e9816f01ae5",
   "metadata": {},
   "source": [
    "### 2.1. Inicialização"
   ]
  },
  {
   "cell_type": "code",
   "execution_count": 4,
   "id": "79bc0c2c-f7a0-4bb0-bb67-838e11885f83",
   "metadata": {},
   "outputs": [
    {
     "data": {
      "text/html": [
       "<div>\n",
       "<style scoped>\n",
       "    .dataframe tbody tr th:only-of-type {\n",
       "        vertical-align: middle;\n",
       "    }\n",
       "\n",
       "    .dataframe tbody tr th {\n",
       "        vertical-align: top;\n",
       "    }\n",
       "\n",
       "    .dataframe thead th {\n",
       "        text-align: right;\n",
       "    }\n",
       "</style>\n",
       "<table border=\"1\" class=\"dataframe\">\n",
       "  <thead>\n",
       "    <tr style=\"text-align: right;\">\n",
       "      <th></th>\n",
       "      <th>x0</th>\n",
       "      <th>x1</th>\n",
       "      <th>x2</th>\n",
       "      <th>y</th>\n",
       "    </tr>\n",
       "  </thead>\n",
       "  <tbody>\n",
       "    <tr>\n",
       "      <th>0</th>\n",
       "      <td>1</td>\n",
       "      <td>6</td>\n",
       "      <td>2</td>\n",
       "      <td>350</td>\n",
       "    </tr>\n",
       "    <tr>\n",
       "      <th>1</th>\n",
       "      <td>7</td>\n",
       "      <td>2</td>\n",
       "      <td>6</td>\n",
       "      <td>630</td>\n",
       "    </tr>\n",
       "    <tr>\n",
       "      <th>2</th>\n",
       "      <td>9</td>\n",
       "      <td>6</td>\n",
       "      <td>3</td>\n",
       "      <td>960</td>\n",
       "    </tr>\n",
       "    <tr>\n",
       "      <th>3</th>\n",
       "      <td>0</td>\n",
       "      <td>1</td>\n",
       "      <td>3</td>\n",
       "      <td>30</td>\n",
       "    </tr>\n",
       "    <tr>\n",
       "      <th>4</th>\n",
       "      <td>2</td>\n",
       "      <td>6</td>\n",
       "      <td>6</td>\n",
       "      <td>600</td>\n",
       "    </tr>\n",
       "  </tbody>\n",
       "</table>\n",
       "</div>"
      ],
      "text/plain": [
       "   x0  x1  x2    y\n",
       "0   1   6   2  350\n",
       "1   7   2   6  630\n",
       "2   9   6   3  960\n",
       "3   0   1   3   30\n",
       "4   2   6   6  600"
      ]
     },
     "execution_count": 4,
     "metadata": {},
     "output_type": "execute_result"
    }
   ],
   "source": [
    "# objective funct for this problem\n",
    "f = lambda x0, x1, x2: 10*(x0-1)**2 + 20*(x1-2)**2 + 30*(x2-3)**2\n",
    "\n",
    "# instantiate a PSO object\n",
    "p = PSO(f, 3, 5, .9, .4, [2,2], 50)\n",
    "p.initialize()\n",
    "p.display_population()"
   ]
  },
  {
   "cell_type": "code",
   "execution_count": 5,
   "id": "11b2d5f1-22f5-4986-8510-e055ea9114f9",
   "metadata": {},
   "outputs": [
    {
     "data": {
      "text/html": [
       "<div>\n",
       "<style scoped>\n",
       "    .dataframe tbody tr th:only-of-type {\n",
       "        vertical-align: middle;\n",
       "    }\n",
       "\n",
       "    .dataframe tbody tr th {\n",
       "        vertical-align: top;\n",
       "    }\n",
       "\n",
       "    .dataframe thead th {\n",
       "        text-align: right;\n",
       "    }\n",
       "</style>\n",
       "<table border=\"1\" class=\"dataframe\">\n",
       "  <thead>\n",
       "    <tr style=\"text-align: right;\">\n",
       "      <th></th>\n",
       "      <th>x0</th>\n",
       "      <th>x1</th>\n",
       "      <th>x2</th>\n",
       "      <th>y</th>\n",
       "    </tr>\n",
       "  </thead>\n",
       "  <tbody>\n",
       "    <tr>\n",
       "      <th>0</th>\n",
       "      <td>1.1</td>\n",
       "      <td>6.6</td>\n",
       "      <td>2.2</td>\n",
       "      <td>442.5</td>\n",
       "    </tr>\n",
       "    <tr>\n",
       "      <th>1</th>\n",
       "      <td>7.7</td>\n",
       "      <td>2.2</td>\n",
       "      <td>6.6</td>\n",
       "      <td>838.5</td>\n",
       "    </tr>\n",
       "    <tr>\n",
       "      <th>2</th>\n",
       "      <td>9.9</td>\n",
       "      <td>6.6</td>\n",
       "      <td>3.3</td>\n",
       "      <td>1218.0</td>\n",
       "    </tr>\n",
       "    <tr>\n",
       "      <th>3</th>\n",
       "      <td>0.0</td>\n",
       "      <td>1.1</td>\n",
       "      <td>3.3</td>\n",
       "      <td>28.9</td>\n",
       "    </tr>\n",
       "    <tr>\n",
       "      <th>4</th>\n",
       "      <td>2.2</td>\n",
       "      <td>6.6</td>\n",
       "      <td>6.6</td>\n",
       "      <td>826.4</td>\n",
       "    </tr>\n",
       "  </tbody>\n",
       "</table>\n",
       "</div>"
      ],
      "text/plain": [
       "    x0   x1   x2       y\n",
       "0  1.1  6.6  2.2   442.5\n",
       "1  7.7  2.2  6.6   838.5\n",
       "2  9.9  6.6  3.3  1218.0\n",
       "3  0.0  1.1  3.3    28.9\n",
       "4  2.2  6.6  6.6   826.4"
      ]
     },
     "execution_count": 5,
     "metadata": {},
     "output_type": "execute_result"
    }
   ],
   "source": [
    "# moving particles for the first time\n",
    "\n",
    "p.first_movement()\n",
    "p.display_population()"
   ]
  },
  {
   "cell_type": "code",
   "execution_count": 6,
   "id": "c127c9a1-f654-4133-b9e9-2196458a8b7e",
   "metadata": {},
   "outputs": [
    {
     "data": {
      "text/html": [
       "<div>\n",
       "<style scoped>\n",
       "    .dataframe tbody tr th:only-of-type {\n",
       "        vertical-align: middle;\n",
       "    }\n",
       "\n",
       "    .dataframe tbody tr th {\n",
       "        vertical-align: top;\n",
       "    }\n",
       "\n",
       "    .dataframe thead th {\n",
       "        text-align: right;\n",
       "    }\n",
       "</style>\n",
       "<table border=\"1\" class=\"dataframe\">\n",
       "  <thead>\n",
       "    <tr style=\"text-align: right;\">\n",
       "      <th></th>\n",
       "      <th>x0</th>\n",
       "      <th>x1</th>\n",
       "      <th>x2</th>\n",
       "      <th>y</th>\n",
       "    </tr>\n",
       "  </thead>\n",
       "  <tbody>\n",
       "    <tr>\n",
       "      <th>0</th>\n",
       "      <td>0.0</td>\n",
       "      <td>1.1</td>\n",
       "      <td>3.3</td>\n",
       "      <td>28.9</td>\n",
       "    </tr>\n",
       "  </tbody>\n",
       "</table>\n",
       "</div>"
      ],
      "text/plain": [
       "    x0   x1   x2     y\n",
       "0  0.0  1.1  3.3  28.9"
      ]
     },
     "execution_count": 6,
     "metadata": {},
     "output_type": "execute_result"
    }
   ],
   "source": [
    "# gbest so far\n",
    "\n",
    "p.display_gbest()"
   ]
  },
  {
   "cell_type": "markdown",
   "id": "579015c1-62e4-4b83-8138-3bd7f7ba4f3d",
   "metadata": {},
   "source": [
    "### 2.2. Cálculo da velocidade e posição"
   ]
  },
  {
   "cell_type": "code",
   "execution_count": 7,
   "id": "34dd89d0-16a5-4f60-a1cc-01975b06aee0",
   "metadata": {},
   "outputs": [
    {
     "data": {
      "text/html": [
       "<div>\n",
       "<style scoped>\n",
       "    .dataframe tbody tr th:only-of-type {\n",
       "        vertical-align: middle;\n",
       "    }\n",
       "\n",
       "    .dataframe tbody tr th {\n",
       "        vertical-align: top;\n",
       "    }\n",
       "\n",
       "    .dataframe thead th {\n",
       "        text-align: right;\n",
       "    }\n",
       "</style>\n",
       "<table border=\"1\" class=\"dataframe\">\n",
       "  <thead>\n",
       "    <tr style=\"text-align: right;\">\n",
       "      <th></th>\n",
       "      <th>x0</th>\n",
       "      <th>x1</th>\n",
       "      <th>x2</th>\n",
       "      <th>y</th>\n",
       "    </tr>\n",
       "  </thead>\n",
       "  <tbody>\n",
       "    <tr>\n",
       "      <th>0</th>\n",
       "      <td>-1.044322</td>\n",
       "      <td>-0.991051</td>\n",
       "      <td>3.379642</td>\n",
       "      <td>225.044101</td>\n",
       "    </tr>\n",
       "    <tr>\n",
       "      <th>1</th>\n",
       "      <td>2.202915</td>\n",
       "      <td>0.966985</td>\n",
       "      <td>1.887256</td>\n",
       "      <td>72.958401</td>\n",
       "    </tr>\n",
       "    <tr>\n",
       "      <th>2</th>\n",
       "      <td>10.217857</td>\n",
       "      <td>6.706685</td>\n",
       "      <td>3.221979</td>\n",
       "      <td>1294.224678</td>\n",
       "    </tr>\n",
       "    <tr>\n",
       "      <th>3</th>\n",
       "      <td>0.000000</td>\n",
       "      <td>1.190000</td>\n",
       "      <td>3.570000</td>\n",
       "      <td>32.869000</td>\n",
       "    </tr>\n",
       "    <tr>\n",
       "      <th>4</th>\n",
       "      <td>1.818761</td>\n",
       "      <td>0.336480</td>\n",
       "      <td>5.276313</td>\n",
       "      <td>217.497640</td>\n",
       "    </tr>\n",
       "  </tbody>\n",
       "</table>\n",
       "</div>"
      ],
      "text/plain": [
       "          x0        x1        x2            y\n",
       "0  -1.044322 -0.991051  3.379642   225.044101\n",
       "1   2.202915  0.966985  1.887256    72.958401\n",
       "2  10.217857  6.706685  3.221979  1294.224678\n",
       "3   0.000000  1.190000  3.570000    32.869000\n",
       "4   1.818761  0.336480  5.276313   217.497640"
      ]
     },
     "execution_count": 7,
     "metadata": {},
     "output_type": "execute_result"
    }
   ],
   "source": [
    "# updating velocity and position for each particle\n",
    "\n",
    "p.update()\n",
    "p.display_population()"
   ]
  },
  {
   "cell_type": "code",
   "execution_count": 8,
   "id": "f17fcefd-6c97-48d0-a578-ae313cb7e3c5",
   "metadata": {},
   "outputs": [
    {
     "data": {
      "text/html": [
       "<div>\n",
       "<style scoped>\n",
       "    .dataframe tbody tr th:only-of-type {\n",
       "        vertical-align: middle;\n",
       "    }\n",
       "\n",
       "    .dataframe tbody tr th {\n",
       "        vertical-align: top;\n",
       "    }\n",
       "\n",
       "    .dataframe thead th {\n",
       "        text-align: right;\n",
       "    }\n",
       "</style>\n",
       "<table border=\"1\" class=\"dataframe\">\n",
       "  <thead>\n",
       "    <tr style=\"text-align: right;\">\n",
       "      <th></th>\n",
       "      <th>x0</th>\n",
       "      <th>x1</th>\n",
       "      <th>x2</th>\n",
       "      <th>y</th>\n",
       "    </tr>\n",
       "  </thead>\n",
       "  <tbody>\n",
       "    <tr>\n",
       "      <th>0</th>\n",
       "      <td>0.0</td>\n",
       "      <td>1.19</td>\n",
       "      <td>3.57</td>\n",
       "      <td>32.869</td>\n",
       "    </tr>\n",
       "  </tbody>\n",
       "</table>\n",
       "</div>"
      ],
      "text/plain": [
       "    x0    x1    x2       y\n",
       "0  0.0  1.19  3.57  32.869"
      ]
     },
     "execution_count": 8,
     "metadata": {},
     "output_type": "execute_result"
    }
   ],
   "source": [
    "p.display_gbest()"
   ]
  },
  {
   "cell_type": "markdown",
   "id": "8970425c-9390-44cd-a774-329516965fff",
   "metadata": {},
   "source": [
    "### 2.3. Iterações Restantes"
   ]
  },
  {
   "cell_type": "code",
   "execution_count": 9,
   "id": "653846c7-376f-4221-adc2-15e6c19d1b9d",
   "metadata": {},
   "outputs": [
    {
     "data": {
      "text/html": [
       "<div>\n",
       "<style scoped>\n",
       "    .dataframe tbody tr th:only-of-type {\n",
       "        vertical-align: middle;\n",
       "    }\n",
       "\n",
       "    .dataframe tbody tr th {\n",
       "        vertical-align: top;\n",
       "    }\n",
       "\n",
       "    .dataframe thead th {\n",
       "        text-align: right;\n",
       "    }\n",
       "</style>\n",
       "<table border=\"1\" class=\"dataframe\">\n",
       "  <thead>\n",
       "    <tr style=\"text-align: right;\">\n",
       "      <th></th>\n",
       "      <th>x0</th>\n",
       "      <th>x1</th>\n",
       "      <th>x2</th>\n",
       "      <th>y</th>\n",
       "    </tr>\n",
       "  </thead>\n",
       "  <tbody>\n",
       "    <tr>\n",
       "      <th>0</th>\n",
       "      <td>-0.739686</td>\n",
       "      <td>0.973175</td>\n",
       "      <td>2.748905</td>\n",
       "      <td>53.243955</td>\n",
       "    </tr>\n",
       "    <tr>\n",
       "      <th>1</th>\n",
       "      <td>10.606823</td>\n",
       "      <td>-68.763720</td>\n",
       "      <td>7.137277</td>\n",
       "      <td>101586.502701</td>\n",
       "    </tr>\n",
       "    <tr>\n",
       "      <th>2</th>\n",
       "      <td>0.858930</td>\n",
       "      <td>-0.908875</td>\n",
       "      <td>1.764423</td>\n",
       "      <td>215.229604</td>\n",
       "    </tr>\n",
       "    <tr>\n",
       "      <th>3</th>\n",
       "      <td>1.647890</td>\n",
       "      <td>1.932150</td>\n",
       "      <td>3.162338</td>\n",
       "      <td>5.080297</td>\n",
       "    </tr>\n",
       "    <tr>\n",
       "      <th>4</th>\n",
       "      <td>1.619429</td>\n",
       "      <td>1.374823</td>\n",
       "      <td>-7.802479</td>\n",
       "      <td>3512.460547</td>\n",
       "    </tr>\n",
       "  </tbody>\n",
       "</table>\n",
       "</div>"
      ],
      "text/plain": [
       "          x0         x1        x2              y\n",
       "0  -0.739686   0.973175  2.748905      53.243955\n",
       "1  10.606823 -68.763720  7.137277  101586.502701\n",
       "2   0.858930  -0.908875  1.764423     215.229604\n",
       "3   1.647890   1.932150  3.162338       5.080297\n",
       "4   1.619429   1.374823 -7.802479    3512.460547"
      ]
     },
     "execution_count": 9,
     "metadata": {},
     "output_type": "execute_result"
    }
   ],
   "source": [
    "p.run()\n",
    "p.display_population()"
   ]
  },
  {
   "cell_type": "code",
   "execution_count": 10,
   "id": "1a21cf87-fc36-4c80-bd66-b43518a74762",
   "metadata": {},
   "outputs": [
    {
     "data": {
      "text/html": [
       "<div>\n",
       "<style scoped>\n",
       "    .dataframe tbody tr th:only-of-type {\n",
       "        vertical-align: middle;\n",
       "    }\n",
       "\n",
       "    .dataframe tbody tr th {\n",
       "        vertical-align: top;\n",
       "    }\n",
       "\n",
       "    .dataframe thead th {\n",
       "        text-align: right;\n",
       "    }\n",
       "</style>\n",
       "<table border=\"1\" class=\"dataframe\">\n",
       "  <thead>\n",
       "    <tr style=\"text-align: right;\">\n",
       "      <th></th>\n",
       "      <th>x0</th>\n",
       "      <th>x1</th>\n",
       "      <th>x2</th>\n",
       "      <th>y</th>\n",
       "    </tr>\n",
       "  </thead>\n",
       "  <tbody>\n",
       "    <tr>\n",
       "      <th>0</th>\n",
       "      <td>1.058289</td>\n",
       "      <td>1.994492</td>\n",
       "      <td>3.174637</td>\n",
       "      <td>0.949527</td>\n",
       "    </tr>\n",
       "  </tbody>\n",
       "</table>\n",
       "</div>"
      ],
      "text/plain": [
       "         x0        x1        x2         y\n",
       "0  1.058289  1.994492  3.174637  0.949527"
      ]
     },
     "execution_count": 10,
     "metadata": {},
     "output_type": "execute_result"
    }
   ],
   "source": [
    "p.display_gbest()"
   ]
  }
 ],
 "metadata": {
  "kernelspec": {
   "display_name": "Python 3",
   "language": "python",
   "name": "python3"
  },
  "language_info": {
   "codemirror_mode": {
    "name": "ipython",
    "version": 3
   },
   "file_extension": ".py",
   "mimetype": "text/x-python",
   "name": "python",
   "nbconvert_exporter": "python",
   "pygments_lexer": "ipython3",
   "version": "3.8.5"
  }
 },
 "nbformat": 4,
 "nbformat_minor": 5
}
