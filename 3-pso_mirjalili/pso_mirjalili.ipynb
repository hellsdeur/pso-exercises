{
 "cells": [
  {
   "cell_type": "markdown",
   "id": "0cd38ff1-864e-4b3a-9fb5-7281fea1a93c",
   "metadata": {},
   "source": [
    "# Terceiro Trabalho - PSO (Mirjalili)"
   ]
  },
  {
   "cell_type": "markdown",
   "id": "dcabf06b-d0d5-4f09-8ea6-2a66f451ea0d",
   "metadata": {},
   "source": []
  },
  {
   "cell_type": "code",
   "execution_count": 1,
   "id": "523ca088-c869-4aed-bc50-a07f8dff13c3",
   "metadata": {},
   "outputs": [],
   "source": [
    "class Particle:\n",
    "    def __init__(self):\n",
    "        pass\n",
    "    "
   ]
  },
  {
   "cell_type": "code",
   "execution_count": null,
   "id": "e8781ea3-7eda-4a8a-aa87-f2030210b6cb",
   "metadata": {},
   "outputs": [],
   "source": [
    "class PSO:\n",
    "    def __init__(self, n, c1, c2, wmin, wmax, vmax, maxIter, function):\n",
    "        self.n = n\n",
    "        self.c1 = c1\n",
    "        self.c2 = c2\n",
    "        self.wmin = wmin\n",
    "        self.wmax = wmax\n",
    "        self.maxIter = maxIter\n",
    "        self.function = function\n",
    "        self.population = []\n",
    "\n",
    "    def initialize():\n",
    "        self.population = [Particle for _ in range(n)]\n",
    "    \n",
    "    def evaluate(self):\n",
    "        for particle in self.population:\n",
    "            # calculate the objective of the particle\n",
    "            y = function(particle)\n",
    "            # update pbest if required\n",
    "            # update gbest if required\n",
    "    \n",
    "    def move(self):\n",
    "        # update the inertia weight\n",
    "        for particle in self.population:\n",
    "            # update the velocity\n",
    "            # update the position\n",
    "    \n",
    "    def run(self):\n",
    "        for i in range(self.maxIter):\n",
    "            self.evaluate()\n",
    "            self.move()"
   ]
  },
  {
   "cell_type": "code",
   "execution_count": null,
   "id": "697b41d4-9a84-4aac-affc-bbfda4804b64",
   "metadata": {},
   "outputs": [],
   "source": [
    "p = PSO(2, 2, 0.9, 0.4)"
   ]
  }
 ],
 "metadata": {
  "kernelspec": {
   "display_name": "Python 3",
   "language": "python",
   "name": "python3"
  },
  "language_info": {
   "codemirror_mode": {
    "name": "ipython",
    "version": 3
   },
   "file_extension": ".py",
   "mimetype": "text/x-python",
   "name": "python",
   "nbconvert_exporter": "python",
   "pygments_lexer": "ipython3",
   "version": "3.8.5"
  }
 },
 "nbformat": 4,
 "nbformat_minor": 5
}
